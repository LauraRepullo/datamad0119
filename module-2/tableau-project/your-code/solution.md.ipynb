{
 "cells": [
  {
   "cell_type": "markdown",
   "metadata": {},
   "source": [
    "# TABLEAU PROJECT\n",
    "\n",
    "## Geospatial Business Intelligence (BI)\n",
    "\n",
    "\n",
    "#### El objetivo del proyecto es determinar el punto geográfico donde recomendariamos abrir otra sede de nuestra empresa, teniendo en cuenta los siguientes datos:\n",
    "\n",
    "   Debemos realizar un análisis geoespacial del dataset \"companies\"\n",
    "\n",
    "   Datos sobre nuestra empresa:\n",
    "\n",
    "   - Es una empresa de software de 50 empleados.\n",
    "\n",
    "   - La empresa diseña videojuegos.\n",
    "\n",
    "   - Puestos en nuestra compañía: 20 desarrolladores, 20 Diseñadores/creativos/UX/UI y 10 ejecutivos/managers\n",
    "\n",
    "   Criterios para la localización de la nueva sede:\n",
    "\n",
    "   - Debe haber ingenieros de software alrededor\n",
    "\n",
    "   - Debe haber un buen ratio de grandes compañías vs startups\n",
    "\n",
    "   - Asegurate de que las compañias cercanas cubren los intereses de tu equipo\n",
    "\n",
    "   - Evita las viejas empresas, rodeate de empresas nuevas\n",
    "\n",
    "        "
   ]
  },
  {
   "cell_type": "markdown",
   "metadata": {},
   "source": [
    "1. Importamos las librerias necesarias para trabajar:"
   ]
  },
  {
   "cell_type": "code",
   "execution_count": 1,
   "metadata": {},
   "outputs": [],
   "source": [
    "import pymongo\n",
    "MongoClient = pymongo.MongoClient\n",
    "import time\n",
    "client = MongoClient()\n",
    "import pandas as pd\n",
    "import re\n",
    "db = client.companies"
   ]
  },
  {
   "cell_type": "code",
   "execution_count": 2,
   "metadata": {},
   "outputs": [
    {
     "data": {
      "text/plain": [
       "3308"
      ]
     },
     "execution_count": 2,
     "metadata": {},
     "output_type": "execute_result"
    }
   ],
   "source": [
    "new_companies = db.companies.find({'founded_year': { '$gte': 2008} })\n",
    "len(list(new_companies))"
   ]
  },
  {
   "cell_type": "markdown",
   "metadata": {},
   "source": [
    "2. Para seleccionar empresas que se dediquen a actividades similares a la nuestra, buscamos todos los \"category_code\" de las empresas de la BBDD:"
   ]
  },
  {
   "cell_type": "code",
   "execution_count": 3,
   "metadata": {},
   "outputs": [
    {
     "name": "stdout",
     "output_type": "stream",
     "text": [
      "['enterprise', 'web', 'software', 'news', 'network_hosting', 'games_video', 'music', 'social', 'mobile', 'search', 'advertising', 'messaging', 'security', 'photo_video', 'finance', 'ecommerce', 'hardware', 'travel', 'public_relations', 'other', 'real_estate', 'semiconductor', 'analytics', 'health', 'legal', 'sports', 'biotech', 'cleantech', 'education', 'consulting', 'transportation', None, 'hospitality', 'fashion', 'nonprofit', 'nanotech', 'automotive', 'design', 'manufacturing', 'government', 'local', 'medical']\n"
     ]
    }
   ],
   "source": [
    "cursor2 = db.companies.find({'category_code':{'$exists': 'true'}})\n",
    "category_codes = list(map(lambda r:r['category_code'], list(cursor2)))\n",
    "\n",
    "category_code_clean = []\n",
    "for i in category_codes:\n",
    "    if i not in category_code_clean:\n",
    "        category_code_clean.append(i)\n",
    "    else:\n",
    "        pass\n",
    "print(category_code_clean)"
   ]
  },
  {
   "cell_type": "markdown",
   "metadata": {},
   "source": [
    "3. Vamos a seleccionar las empresas que se dedican a : 'web', 'software', 'network_hosting', 'games_video', 'ecommerce', 'hardware', 'analytics':"
   ]
  },
  {
   "cell_type": "code",
   "execution_count": 6,
   "metadata": {},
   "outputs": [
    {
     "data": {
      "text/plain": [
       "1971"
      ]
     },
     "execution_count": 6,
     "metadata": {},
     "output_type": "execute_result"
    }
   ],
   "source": [
    "category_companies = db.companies.find({'$and':\n",
    "                                       [{'founded_year': { '$gte': 2008} }, \n",
    "                                         { '$or': \n",
    "                                          [{'category_code': 'web'}, \n",
    "                                           {'category_code':'software'}, \n",
    "                                           {'category_code':'network_hosting'},\n",
    "                                           {'category_code': 'games_video'},\n",
    "                                           {'category_code':'ecommerce'},\n",
    "                                           {'category_code':'hardware'}, \n",
    "                                           {'category_code':'network_hosting'},\n",
    "                                           {'category_code': 'games_video'},\n",
    "                                           {'category_code':'ecommerce'},\n",
    "                                           {'category_code':'hardware'}]}]})\n",
    "len(list(category_companies))"
   ]
  },
  {
   "cell_type": "markdown",
   "metadata": {},
   "source": [
    "4. Nos quedamos con las empresas que no tengan año de Deadpool:"
   ]
  },
  {
   "cell_type": "code",
   "execution_count": 4,
   "metadata": {},
   "outputs": [
    {
     "data": {
      "text/plain": [
       "1824"
      ]
     },
     "execution_count": 4,
     "metadata": {},
     "output_type": "execute_result"
    }
   ],
   "source": [
    "category_companies_no_dp = db.companies.find({'$and':\n",
    "                                       [{'founded_year': { '$gte': 2008} }, \n",
    "                                         { '$or': \n",
    "                                          [{'category_code': 'web'}, \n",
    "                                           {'category_code':'software'}, \n",
    "                                           {'}category_code':'network_hosting'},\n",
    "                                           {'category_code': 'games_video'},\n",
    "                                           {'category_code':'ecommerce'},\n",
    "                                           {'category_code':'hardware'}, \n",
    "                                           {'category_code':'network_hosting'},\n",
    "                                           {'category_code': 'games_video'},\n",
    "                                           {'category_code':'ecommerce'},\n",
    "                                           {'category_code':'hardware'}]},\n",
    "                                       {'deadpooled_year': { '$type': 10 }}]})\n",
    "len(list(category_companies_no_dp))"
   ]
  },
  {
   "cell_type": "markdown",
   "metadata": {},
   "source": [
    "5. Analizamos los datos del campo \"total_money_raised\":"
   ]
  },
  {
   "cell_type": "code",
   "execution_count": 5,
   "metadata": {},
   "outputs": [
    {
     "name": "stdout",
     "output_type": "stream",
     "text": [
      "€9M\n",
      "$0\n"
     ]
    }
   ],
   "source": [
    "cursor3 = db.companies.find({'total_money_raised':{'$exists': 'true'}})\n",
    "total_money_raised = list(map(lambda r:r['total_money_raised'], list(cursor3)))\n",
    "\n",
    "total_money_raised_list = []\n",
    "for i in total_money_raised:\n",
    "    if i not in total_money_raised_list:\n",
    "        total_money_raised_list.append(i)\n",
    "    else:\n",
    "        pass\n",
    "print(max(total_money_raised_list))\n",
    "print(min(total_money_raised_list))"
   ]
  },
  {
   "cell_type": "markdown",
   "metadata": {},
   "source": [
    "6. Eliminamos las que total_money_raised = '$0':"
   ]
  },
  {
   "cell_type": "code",
   "execution_count": 6,
   "metadata": {},
   "outputs": [
    {
     "data": {
      "text/plain": [
       "245"
      ]
     },
     "execution_count": 6,
     "metadata": {},
     "output_type": "execute_result"
    }
   ],
   "source": [
    "category_companies_no_dp_act = db.companies.find({'$and':\n",
    "                                       [{'founded_year': { '$gte': 2008} }, \n",
    "                                         { '$or': \n",
    "                                          [{'category_code': 'web'}, \n",
    "                                           {'category_code':'software'}, \n",
    "                                           {'category_code':'network_hosting'},\n",
    "                                           {'category_code': 'games_video'},\n",
    "                                           {'category_code':'ecommerce'},\n",
    "                                           {'category_code':'hardware'}, \n",
    "                                           {'category_code':'network_hosting'},\n",
    "                                           {'category_code': 'games_video'},\n",
    "                                           {'category_code':'ecommerce'},\n",
    "                                           {'category_code':'hardware'}]},\n",
    "                                       {'deadpooled_year': { '$type': 10 }},\n",
    "                                       {'total_money_raised':{'$nin': ['$0']}}]})\n",
    "x = list(category_companies_no_dp_act)\n",
    "len(x)"
   ]
  },
  {
   "cell_type": "markdown",
   "metadata": {},
   "source": [
    "7. Del listado de las 245 empresas, creamos la Dataframe: "
   ]
  },
  {
   "cell_type": "code",
   "execution_count": 8,
   "metadata": {},
   "outputs": [
    {
     "data": {
      "text/html": [
       "<div>\n",
       "<style scoped>\n",
       "    .dataframe tbody tr th:only-of-type {\n",
       "        vertical-align: middle;\n",
       "    }\n",
       "\n",
       "    .dataframe tbody tr th {\n",
       "        vertical-align: top;\n",
       "    }\n",
       "\n",
       "    .dataframe thead th {\n",
       "        text-align: right;\n",
       "    }\n",
       "</style>\n",
       "<table border=\"1\" class=\"dataframe\">\n",
       "  <thead>\n",
       "    <tr style=\"text-align: right;\">\n",
       "      <th></th>\n",
       "      <th>_id</th>\n",
       "      <th>acquisition</th>\n",
       "      <th>acquisitions</th>\n",
       "      <th>alias_list</th>\n",
       "      <th>blog_feed_url</th>\n",
       "      <th>blog_url</th>\n",
       "      <th>category_code</th>\n",
       "      <th>competitions</th>\n",
       "      <th>created_at</th>\n",
       "      <th>crunchbase_url</th>\n",
       "      <th>...</th>\n",
       "      <th>phone_number</th>\n",
       "      <th>products</th>\n",
       "      <th>providerships</th>\n",
       "      <th>relationships</th>\n",
       "      <th>screenshots</th>\n",
       "      <th>tag_list</th>\n",
       "      <th>total_money_raised</th>\n",
       "      <th>twitter_username</th>\n",
       "      <th>updated_at</th>\n",
       "      <th>video_embeds</th>\n",
       "    </tr>\n",
       "  </thead>\n",
       "  <tbody>\n",
       "    <tr>\n",
       "      <th>0</th>\n",
       "      <td>52cdef7c4bab8bd675297e30</td>\n",
       "      <td>None</td>\n",
       "      <td>[]</td>\n",
       "      <td>None</td>\n",
       "      <td></td>\n",
       "      <td>http://goingon.com/blog</td>\n",
       "      <td>software</td>\n",
       "      <td>[{'competitor': {'name': 'Ning by Glam Media',...</td>\n",
       "      <td>Fri Jul 20 04:55:26 UTC 2007</td>\n",
       "      <td>http://www.crunchbase.com/company/goingon</td>\n",
       "      <td>...</td>\n",
       "      <td>415-200-4606</td>\n",
       "      <td>[{'name': 'GoingOn', 'permalink': 'goingon'}, ...</td>\n",
       "      <td>[]</td>\n",
       "      <td>[{'is_past': False, 'title': 'CEO', 'person': ...</td>\n",
       "      <td>[]</td>\n",
       "      <td>socialnetworking, enterprise, social-media, so...</td>\n",
       "      <td>$8.5M</td>\n",
       "      <td>GoingOn_Network</td>\n",
       "      <td>Thu Apr 04 09:03:17 UTC 2013</td>\n",
       "      <td>[]</td>\n",
       "    </tr>\n",
       "    <tr>\n",
       "      <th>1</th>\n",
       "      <td>52cdef7c4bab8bd675297f76</td>\n",
       "      <td>None</td>\n",
       "      <td>[]</td>\n",
       "      <td></td>\n",
       "      <td></td>\n",
       "      <td></td>\n",
       "      <td>games_video</td>\n",
       "      <td>[]</td>\n",
       "      <td>Thu Aug 30 11:29:22 UTC 2007</td>\n",
       "      <td>http://www.crunchbase.com/company/crunchyroll</td>\n",
       "      <td>...</td>\n",
       "      <td></td>\n",
       "      <td>[{'name': 'crunchyroll.com', 'permalink': 'cru...</td>\n",
       "      <td>[]</td>\n",
       "      <td>[{'is_past': False, 'title': 'beneficial owner...</td>\n",
       "      <td>[]</td>\n",
       "      <td>crunchyroll, anime, manga, video, gaming, musi...</td>\n",
       "      <td>$4.8M</td>\n",
       "      <td>crunchyroll</td>\n",
       "      <td>Fri Dec 20 11:00:02 UTC 2013</td>\n",
       "      <td>[]</td>\n",
       "    </tr>\n",
       "    <tr>\n",
       "      <th>2</th>\n",
       "      <td>52cdef7c4bab8bd675297fec</td>\n",
       "      <td>None</td>\n",
       "      <td>[]</td>\n",
       "      <td></td>\n",
       "      <td>http://blog.muktar.com/feed/</td>\n",
       "      <td>http://blog.muktar.com</td>\n",
       "      <td>web</td>\n",
       "      <td>[{'competitor': {'name': 'Kluster', 'permalink...</td>\n",
       "      <td>Sat Sep 08 08:24:15 UTC 2007</td>\n",
       "      <td>http://www.crunchbase.com/company/fixya</td>\n",
       "      <td>...</td>\n",
       "      <td></td>\n",
       "      <td>[{'name': 'Fixya', 'permalink': 'fixya'}]</td>\n",
       "      <td>[{'title': 'Accounting', 'is_past': False, 'pr...</td>\n",
       "      <td>[{'is_past': False, 'title': 'Founder &amp; CEO', ...</td>\n",
       "      <td>[]</td>\n",
       "      <td>fixya, crowdsourcing, diy, repair, customer-se...</td>\n",
       "      <td>$8M</td>\n",
       "      <td>MUaliyu</td>\n",
       "      <td>Tue Nov 19 03:48:00 UTC 2013</td>\n",
       "      <td>[{'embed_code': '&lt;div style=\"width:320px;\"&gt;&lt;di...</td>\n",
       "    </tr>\n",
       "    <tr>\n",
       "      <th>3</th>\n",
       "      <td>52cdef7c4bab8bd67529801f</td>\n",
       "      <td>None</td>\n",
       "      <td>[]</td>\n",
       "      <td></td>\n",
       "      <td></td>\n",
       "      <td>http://corp.wamba.com</td>\n",
       "      <td>web</td>\n",
       "      <td>[{'competitor': {'name': 'Vostu', 'permalink':...</td>\n",
       "      <td>Fri Sep 28 09:37:07 UTC 2007</td>\n",
       "      <td>http://www.crunchbase.com/company/wamba</td>\n",
       "      <td>...</td>\n",
       "      <td></td>\n",
       "      <td>[{'name': 'Wamba', 'permalink': 'wamba'}]</td>\n",
       "      <td>[{'title': 'IT Services Provider', 'is_past': ...</td>\n",
       "      <td>[{'is_past': True, 'title': 'Founder', 'person...</td>\n",
       "      <td>[]</td>\n",
       "      <td>socialnetwork</td>\n",
       "      <td>€3M</td>\n",
       "      <td></td>\n",
       "      <td>Wed May 29 18:58:44 UTC 2013</td>\n",
       "      <td>[]</td>\n",
       "    </tr>\n",
       "    <tr>\n",
       "      <th>4</th>\n",
       "      <td>52cdef7c4bab8bd67529803d</td>\n",
       "      <td>{'price_amount': None, 'price_currency_code': ...</td>\n",
       "      <td>[{'price_amount': None, 'price_currency_code':...</td>\n",
       "      <td></td>\n",
       "      <td>http://www.uptake.com/blog/feed</td>\n",
       "      <td>http://www.uptake.com/blog/</td>\n",
       "      <td>web</td>\n",
       "      <td>[{'competitor': {'name': 'TripAdvisor', 'perma...</td>\n",
       "      <td>Thu Oct 11 12:07:18 UTC 2007</td>\n",
       "      <td>http://www.crunchbase.com/company/uptake</td>\n",
       "      <td>...</td>\n",
       "      <td>(650) 329-9888</td>\n",
       "      <td>[{'name': 'Uptake', 'permalink': 'kango'}]</td>\n",
       "      <td>[{'title': '', 'is_past': False, 'provider': {...</td>\n",
       "      <td>[{'is_past': False, 'title': 'VP of Revenue', ...</td>\n",
       "      <td>[]</td>\n",
       "      <td>travel, search, naturallanguage, semantic</td>\n",
       "      <td>$16.8M</td>\n",
       "      <td>uptake</td>\n",
       "      <td>Mon Dec 23 11:36:17 UTC 2013</td>\n",
       "      <td>[]</td>\n",
       "    </tr>\n",
       "  </tbody>\n",
       "</table>\n",
       "<p>5 rows × 42 columns</p>\n",
       "</div>"
      ],
      "text/plain": [
       "                        _id  \\\n",
       "0  52cdef7c4bab8bd675297e30   \n",
       "1  52cdef7c4bab8bd675297f76   \n",
       "2  52cdef7c4bab8bd675297fec   \n",
       "3  52cdef7c4bab8bd67529801f   \n",
       "4  52cdef7c4bab8bd67529803d   \n",
       "\n",
       "                                         acquisition  \\\n",
       "0                                               None   \n",
       "1                                               None   \n",
       "2                                               None   \n",
       "3                                               None   \n",
       "4  {'price_amount': None, 'price_currency_code': ...   \n",
       "\n",
       "                                        acquisitions alias_list  \\\n",
       "0                                                 []       None   \n",
       "1                                                 []              \n",
       "2                                                 []              \n",
       "3                                                 []              \n",
       "4  [{'price_amount': None, 'price_currency_code':...              \n",
       "\n",
       "                     blog_feed_url                     blog_url category_code  \\\n",
       "0                                       http://goingon.com/blog      software   \n",
       "1                                                                 games_video   \n",
       "2     http://blog.muktar.com/feed/       http://blog.muktar.com           web   \n",
       "3                                         http://corp.wamba.com           web   \n",
       "4  http://www.uptake.com/blog/feed  http://www.uptake.com/blog/           web   \n",
       "\n",
       "                                        competitions  \\\n",
       "0  [{'competitor': {'name': 'Ning by Glam Media',...   \n",
       "1                                                 []   \n",
       "2  [{'competitor': {'name': 'Kluster', 'permalink...   \n",
       "3  [{'competitor': {'name': 'Vostu', 'permalink':...   \n",
       "4  [{'competitor': {'name': 'TripAdvisor', 'perma...   \n",
       "\n",
       "                     created_at  \\\n",
       "0  Fri Jul 20 04:55:26 UTC 2007   \n",
       "1  Thu Aug 30 11:29:22 UTC 2007   \n",
       "2  Sat Sep 08 08:24:15 UTC 2007   \n",
       "3  Fri Sep 28 09:37:07 UTC 2007   \n",
       "4  Thu Oct 11 12:07:18 UTC 2007   \n",
       "\n",
       "                                  crunchbase_url  \\\n",
       "0      http://www.crunchbase.com/company/goingon   \n",
       "1  http://www.crunchbase.com/company/crunchyroll   \n",
       "2        http://www.crunchbase.com/company/fixya   \n",
       "3        http://www.crunchbase.com/company/wamba   \n",
       "4       http://www.crunchbase.com/company/uptake   \n",
       "\n",
       "                         ...                            phone_number  \\\n",
       "0                        ...                            415-200-4606   \n",
       "1                        ...                                           \n",
       "2                        ...                                           \n",
       "3                        ...                                           \n",
       "4                        ...                          (650) 329-9888   \n",
       "\n",
       "                                            products  \\\n",
       "0  [{'name': 'GoingOn', 'permalink': 'goingon'}, ...   \n",
       "1  [{'name': 'crunchyroll.com', 'permalink': 'cru...   \n",
       "2          [{'name': 'Fixya', 'permalink': 'fixya'}]   \n",
       "3          [{'name': 'Wamba', 'permalink': 'wamba'}]   \n",
       "4         [{'name': 'Uptake', 'permalink': 'kango'}]   \n",
       "\n",
       "                                       providerships  \\\n",
       "0                                                 []   \n",
       "1                                                 []   \n",
       "2  [{'title': 'Accounting', 'is_past': False, 'pr...   \n",
       "3  [{'title': 'IT Services Provider', 'is_past': ...   \n",
       "4  [{'title': '', 'is_past': False, 'provider': {...   \n",
       "\n",
       "                                       relationships screenshots  \\\n",
       "0  [{'is_past': False, 'title': 'CEO', 'person': ...          []   \n",
       "1  [{'is_past': False, 'title': 'beneficial owner...          []   \n",
       "2  [{'is_past': False, 'title': 'Founder & CEO', ...          []   \n",
       "3  [{'is_past': True, 'title': 'Founder', 'person...          []   \n",
       "4  [{'is_past': False, 'title': 'VP of Revenue', ...          []   \n",
       "\n",
       "                                            tag_list total_money_raised  \\\n",
       "0  socialnetworking, enterprise, social-media, so...              $8.5M   \n",
       "1  crunchyroll, anime, manga, video, gaming, musi...              $4.8M   \n",
       "2  fixya, crowdsourcing, diy, repair, customer-se...                $8M   \n",
       "3                                      socialnetwork                €3M   \n",
       "4          travel, search, naturallanguage, semantic             $16.8M   \n",
       "\n",
       "   twitter_username                    updated_at  \\\n",
       "0   GoingOn_Network  Thu Apr 04 09:03:17 UTC 2013   \n",
       "1       crunchyroll  Fri Dec 20 11:00:02 UTC 2013   \n",
       "2           MUaliyu  Tue Nov 19 03:48:00 UTC 2013   \n",
       "3                    Wed May 29 18:58:44 UTC 2013   \n",
       "4            uptake  Mon Dec 23 11:36:17 UTC 2013   \n",
       "\n",
       "                                        video_embeds  \n",
       "0                                                 []  \n",
       "1                                                 []  \n",
       "2  [{'embed_code': '<div style=\"width:320px;\"><di...  \n",
       "3                                                 []  \n",
       "4                                                 []  \n",
       "\n",
       "[5 rows x 42 columns]"
      ]
     },
     "execution_count": 8,
     "metadata": {},
     "output_type": "execute_result"
    }
   ],
   "source": [
    "df = pd.DataFrame(x)\n",
    "df.head()"
   ]
  },
  {
   "cell_type": "markdown",
   "metadata": {},
   "source": [
    "8. Eliminamos las filas cuya columna Offices no tiene info:"
   ]
  },
  {
   "cell_type": "code",
   "execution_count": 9,
   "metadata": {},
   "outputs": [],
   "source": [
    "df['l'] = df.offices.apply(len)"
   ]
  },
  {
   "cell_type": "markdown",
   "metadata": {},
   "source": [
    "9. Creamos dos columnas ('lat' y 'long'), con los datos que estaban incluidos en la columna 'office':"
   ]
  },
  {
   "cell_type": "code",
   "execution_count": 12,
   "metadata": {
    "scrolled": false
   },
   "outputs": [
    {
     "name": "stderr",
     "output_type": "stream",
     "text": [
      "/home/laura/.local/lib/python3.6/site-packages/ipykernel_launcher.py:6: SettingWithCopyWarning: \n",
      "A value is trying to be set on a copy of a slice from a DataFrame.\n",
      "Try using .loc[row_indexer,col_indexer] = value instead\n",
      "\n",
      "See the caveats in the documentation: http://pandas.pydata.org/pandas-docs/stable/indexing.html#indexing-view-versus-copy\n",
      "  \n",
      "/home/laura/.local/lib/python3.6/site-packages/ipykernel_launcher.py:7: SettingWithCopyWarning: \n",
      "A value is trying to be set on a copy of a slice from a DataFrame.\n",
      "Try using .loc[row_indexer,col_indexer] = value instead\n",
      "\n",
      "See the caveats in the documentation: http://pandas.pydata.org/pandas-docs/stable/indexing.html#indexing-view-versus-copy\n",
      "  import sys\n"
     ]
    }
   ],
   "source": [
    "df1 = df.loc[df['l'] > 0]\n",
    "df1.reset_index(inplace=True)\n",
    "df1.offices[0]\n",
    "df1.offices[0][0]['longitude'] # df.offices -> el primer registro, la primera office, latitude\n",
    "\n",
    "df1['lat'] = df1.apply(lambda row: row['offices'][0]['latitude'], axis=1)\n",
    "df1['long'] = df1.apply(lambda row: row['offices'][0]['longitude'], axis=1)"
   ]
  },
  {
   "cell_type": "markdown",
   "metadata": {},
   "source": [
    "10. Eliminamos las filas que no tienen datos de 'lat' y 'ĺong':"
   ]
  },
  {
   "cell_type": "code",
   "execution_count": 14,
   "metadata": {},
   "outputs": [],
   "source": [
    "df1['lat'].isnull().sum()\n",
    "\n",
    "df2 = df1.dropna(subset=['lat'])\n",
    "df2.reset_index(inplace=True)"
   ]
  },
  {
   "cell_type": "markdown",
   "metadata": {},
   "source": [
    "11. Unimos latitud y longitud en una columna, que llamaremos \"coord\":"
   ]
  },
  {
   "cell_type": "code",
   "execution_count": 15,
   "metadata": {},
   "outputs": [
    {
     "name": "stderr",
     "output_type": "stream",
     "text": [
      "/home/laura/.local/lib/python3.6/site-packages/ipykernel_launcher.py:1: SettingWithCopyWarning: \n",
      "A value is trying to be set on a copy of a slice from a DataFrame.\n",
      "Try using .loc[row_indexer,col_indexer] = value instead\n",
      "\n",
      "See the caveats in the documentation: http://pandas.pydata.org/pandas-docs/stable/indexing.html#indexing-view-versus-copy\n",
      "  \"\"\"Entry point for launching an IPython kernel.\n"
     ]
    },
    {
     "data": {
      "text/plain": [
       "0    [-122.392142, 37.782263]\n",
       "1    [-122.393229, 37.781265]\n",
       "2    [-122.323895, 37.566879]\n",
       "3    [-122.161674, 37.443058]\n",
       "4     [-73.985433, 40.740231]\n",
       "Name: coord, dtype: object"
      ]
     },
     "execution_count": 15,
     "metadata": {},
     "output_type": "execute_result"
    }
   ],
   "source": [
    "df2['coord'] = df2[['long', 'lat']].apply(list, axis=1)\n",
    "df2.coord.head()"
   ]
  },
  {
   "cell_type": "markdown",
   "metadata": {},
   "source": [
    "12. Para poder importarlo en MongoDB Compass, y crear el indice Geoespacial que necesitamos, utilizamos la siguiente función:"
   ]
  },
  {
   "cell_type": "code",
   "execution_count": 16,
   "metadata": {},
   "outputs": [
    {
     "name": "stderr",
     "output_type": "stream",
     "text": [
      "/home/laura/.local/lib/python3.6/site-packages/ipykernel_launcher.py:5: SettingWithCopyWarning: \n",
      "A value is trying to be set on a copy of a slice from a DataFrame.\n",
      "Try using .loc[row_indexer,col_indexer] = value instead\n",
      "\n",
      "See the caveats in the documentation: http://pandas.pydata.org/pandas-docs/stable/indexing.html#indexing-view-versus-copy\n",
      "  \"\"\"\n"
     ]
    },
    {
     "data": {
      "text/plain": [
       "0    {'type': 'Point', 'coordinates': [-122.392142,...\n",
       "1    {'type': 'Point', 'coordinates': [-122.393229,...\n",
       "2    {'type': 'Point', 'coordinates': [-122.323895,...\n",
       "3    {'type': 'Point', 'coordinates': [-122.161674,...\n",
       "4    {'type': 'Point', 'coordinates': [-73.985433, ...\n",
       "Name: position, dtype: object"
      ]
     },
     "execution_count": 16,
     "metadata": {},
     "output_type": "execute_result"
    }
   ],
   "source": [
    "def toGeoJSON(array):\n",
    "    return {\n",
    "       \"type\":\"Point\",\n",
    "       \"coordinates\":array}\n",
    "df2['position'] = df2.apply(lambda r:toGeoJSON(r['coord']),axis=1)\n",
    "df2.position.head()\n"
   ]
  },
  {
   "cell_type": "markdown",
   "metadata": {},
   "source": [
    "13. De la Dataframe resultante, seleccionamos las columnas que nos interesan:"
   ]
  },
  {
   "cell_type": "code",
   "execution_count": 22,
   "metadata": {},
   "outputs": [
    {
     "data": {
      "text/html": [
       "<div>\n",
       "<style scoped>\n",
       "    .dataframe tbody tr th:only-of-type {\n",
       "        vertical-align: middle;\n",
       "    }\n",
       "\n",
       "    .dataframe tbody tr th {\n",
       "        vertical-align: top;\n",
       "    }\n",
       "\n",
       "    .dataframe thead th {\n",
       "        text-align: right;\n",
       "    }\n",
       "</style>\n",
       "<table border=\"1\" class=\"dataframe\">\n",
       "  <thead>\n",
       "    <tr style=\"text-align: right;\">\n",
       "      <th></th>\n",
       "      <th>name</th>\n",
       "      <th>category_code</th>\n",
       "      <th>founded_year</th>\n",
       "      <th>number_of_employees</th>\n",
       "      <th>total_money_raised</th>\n",
       "      <th>position</th>\n",
       "    </tr>\n",
       "  </thead>\n",
       "  <tbody>\n",
       "    <tr>\n",
       "      <th>0</th>\n",
       "      <td>GoingOn</td>\n",
       "      <td>software</td>\n",
       "      <td>2008</td>\n",
       "      <td>40.0</td>\n",
       "      <td>$8.5M</td>\n",
       "      <td>{'type': 'Point', 'coordinates': [-122.392142,...</td>\n",
       "    </tr>\n",
       "    <tr>\n",
       "      <th>1</th>\n",
       "      <td>Crunchyroll</td>\n",
       "      <td>games_video</td>\n",
       "      <td>2008</td>\n",
       "      <td>50.0</td>\n",
       "      <td>$4.8M</td>\n",
       "      <td>{'type': 'Point', 'coordinates': [-122.393229,...</td>\n",
       "    </tr>\n",
       "    <tr>\n",
       "      <th>2</th>\n",
       "      <td>Fixya</td>\n",
       "      <td>web</td>\n",
       "      <td>2013</td>\n",
       "      <td>30.0</td>\n",
       "      <td>$8M</td>\n",
       "      <td>{'type': 'Point', 'coordinates': [-122.323895,...</td>\n",
       "    </tr>\n",
       "    <tr>\n",
       "      <th>3</th>\n",
       "      <td>Uptake</td>\n",
       "      <td>web</td>\n",
       "      <td>2008</td>\n",
       "      <td>NaN</td>\n",
       "      <td>$16.8M</td>\n",
       "      <td>{'type': 'Point', 'coordinates': [-122.161674,...</td>\n",
       "    </tr>\n",
       "    <tr>\n",
       "      <th>4</th>\n",
       "      <td>BeliefNet</td>\n",
       "      <td>web</td>\n",
       "      <td>2008</td>\n",
       "      <td>NaN</td>\n",
       "      <td>$7M</td>\n",
       "      <td>{'type': 'Point', 'coordinates': [-73.985433, ...</td>\n",
       "    </tr>\n",
       "  </tbody>\n",
       "</table>\n",
       "</div>"
      ],
      "text/plain": [
       "          name category_code  founded_year  number_of_employees  \\\n",
       "0      GoingOn      software          2008                 40.0   \n",
       "1  Crunchyroll   games_video          2008                 50.0   \n",
       "2        Fixya           web          2013                 30.0   \n",
       "3       Uptake           web          2008                  NaN   \n",
       "4    BeliefNet           web          2008                  NaN   \n",
       "\n",
       "  total_money_raised                                           position  \n",
       "0              $8.5M  {'type': 'Point', 'coordinates': [-122.392142,...  \n",
       "1              $4.8M  {'type': 'Point', 'coordinates': [-122.393229,...  \n",
       "2                $8M  {'type': 'Point', 'coordinates': [-122.323895,...  \n",
       "3             $16.8M  {'type': 'Point', 'coordinates': [-122.161674,...  \n",
       "4                $7M  {'type': 'Point', 'coordinates': [-73.985433, ...  "
      ]
     },
     "execution_count": 22,
     "metadata": {},
     "output_type": "execute_result"
    }
   ],
   "source": [
    "df3=df2[['name','category_code','founded_year','number_of_employees', 'total_money_raised', 'position']]\n",
    "df3.head()"
   ]
  },
  {
   "cell_type": "markdown",
   "metadata": {},
   "source": [
    "14. Pasamos el data a .JSON, para poder importarlo en MongoDB Compass:"
   ]
  },
  {
   "cell_type": "code",
   "execution_count": 23,
   "metadata": {},
   "outputs": [],
   "source": [
    "df3.to_json(\"companies_with_coords.json\", orient=\"records\", lines=True)"
   ]
  },
  {
   "cell_type": "markdown",
   "metadata": {},
   "source": [
    "15. Una vez que en MongoDB ya hemos creado un index geographical en nuestro .JSON, aplicamos la siguiente función para que nos indique, de cada una de las empresas que quedan en nuestra seleccion, cuantas empresas tienen cerca(entre 0 y 10km); el maximo es 25:"
   ]
  },
  {
   "cell_type": "code",
   "execution_count": 24,
   "metadata": {},
   "outputs": [
    {
     "name": "stderr",
     "output_type": "stream",
     "text": [
      "/home/laura/.local/lib/python3.6/site-packages/ipykernel_launcher.py:16: DeprecationWarning: count is deprecated. Use Collection.count_documents instead.\n",
      "  app.launch_new_instance()\n"
     ]
    },
    {
     "name": "stdout",
     "output_type": "stream",
     "text": [
      "25\n"
     ]
    }
   ],
   "source": [
    "cursor4= db.companiesjson.find()\n",
    "companies_found = []\n",
    "for i in cursor4:\n",
    "    cursor5 = db.companiesjson.find({\n",
    "              \"position\": {\n",
    "                \"$near\": {\n",
    "                  \"$geometry\": {\n",
    "                    \"type\": \"Point\",\n",
    "                    \"coordinates\": [i['position']['coordinates'][0], i['position']['coordinates'][1]]\n",
    "      },\n",
    "      \"$minDistance\": 0,\n",
    "      \"$maxDistance\":10000\n",
    "    }\n",
    "  }\n",
    "})\n",
    "    companies_found.append(cursor5.count())\n",
    "\n",
    "print(max(companies_found))\n",
    "    \n",
    "#import pandas as pd\n",
    "#df4 = pd.DataFrame(list(cursor4))\n",
    "#df4.head()"
   ]
  },
  {
   "cell_type": "code",
   "execution_count": null,
   "metadata": {},
   "outputs": [],
   "source": [
    "16. Filtramos las empresas que mas empresas tienen alrededor, y nos queda una lista de 13:"
   ]
  },
  {
   "cell_type": "code",
   "execution_count": 19,
   "metadata": {},
   "outputs": [
    {
     "name": "stderr",
     "output_type": "stream",
     "text": [
      "/home/laura/.local/lib/python3.6/site-packages/ipykernel_launcher.py:16: DeprecationWarning: count is deprecated. Use Collection.count_documents instead.\n",
      "  app.launch_new_instance()\n"
     ]
    },
    {
     "data": {
      "text/html": [
       "<div>\n",
       "<style scoped>\n",
       "    .dataframe tbody tr th:only-of-type {\n",
       "        vertical-align: middle;\n",
       "    }\n",
       "\n",
       "    .dataframe tbody tr th {\n",
       "        vertical-align: top;\n",
       "    }\n",
       "\n",
       "    .dataframe thead th {\n",
       "        text-align: right;\n",
       "    }\n",
       "</style>\n",
       "<table border=\"1\" class=\"dataframe\">\n",
       "  <thead>\n",
       "    <tr style=\"text-align: right;\">\n",
       "      <th></th>\n",
       "      <th>_id</th>\n",
       "      <th>category_code</th>\n",
       "      <th>founded_year</th>\n",
       "      <th>name</th>\n",
       "      <th>number_of_employees</th>\n",
       "      <th>position</th>\n",
       "      <th>total_money_raised</th>\n",
       "    </tr>\n",
       "  </thead>\n",
       "  <tbody>\n",
       "    <tr>\n",
       "      <th>0</th>\n",
       "      <td>5c6af01fadf5549f750d37a8</td>\n",
       "      <td>web</td>\n",
       "      <td>2008</td>\n",
       "      <td>BeliefNet</td>\n",
       "      <td>NaN</td>\n",
       "      <td>{'type': 'Point', 'coordinates': [-73.985433, ...</td>\n",
       "      <td>$7M</td>\n",
       "    </tr>\n",
       "    <tr>\n",
       "      <th>1</th>\n",
       "      <td>5c6af01fadf5549f750d37af</td>\n",
       "      <td>web</td>\n",
       "      <td>2008</td>\n",
       "      <td>Kluster</td>\n",
       "      <td>NaN</td>\n",
       "      <td>{'type': 'Point', 'coordinates': [-73.985281, ...</td>\n",
       "      <td>$1M</td>\n",
       "    </tr>\n",
       "    <tr>\n",
       "      <th>2</th>\n",
       "      <td>5c6af01fadf5549f750d37c5</td>\n",
       "      <td>web</td>\n",
       "      <td>2008</td>\n",
       "      <td>Bitly</td>\n",
       "      <td>NaN</td>\n",
       "      <td>{'type': 'Point', 'coordinates': [-74.00721, 4...</td>\n",
       "      <td>$31.4M</td>\n",
       "    </tr>\n",
       "    <tr>\n",
       "      <th>3</th>\n",
       "      <td>5c6af02fadf5549f750d37f9</td>\n",
       "      <td>web</td>\n",
       "      <td>2010</td>\n",
       "      <td>Yipit</td>\n",
       "      <td>23.0</td>\n",
       "      <td>{'type': 'Point', 'coordinates': [-73.987764, ...</td>\n",
       "      <td>$7.55M</td>\n",
       "    </tr>\n",
       "    <tr>\n",
       "      <th>4</th>\n",
       "      <td>5c6af02fadf5549f750d37fd</td>\n",
       "      <td>web</td>\n",
       "      <td>2008</td>\n",
       "      <td>Modelinia</td>\n",
       "      <td>NaN</td>\n",
       "      <td>{'type': 'Point', 'coordinates': [-73.990024, ...</td>\n",
       "      <td>$5M</td>\n",
       "    </tr>\n",
       "    <tr>\n",
       "      <th>5</th>\n",
       "      <td>5c6af02fadf5549f750d381b</td>\n",
       "      <td>games_video</td>\n",
       "      <td>2008</td>\n",
       "      <td>Crispy Gamer</td>\n",
       "      <td>NaN</td>\n",
       "      <td>{'type': 'Point', 'coordinates': [-73.985273, ...</td>\n",
       "      <td>$8.25M</td>\n",
       "    </tr>\n",
       "    <tr>\n",
       "      <th>6</th>\n",
       "      <td>5c6af02fadf5549f750d3823</td>\n",
       "      <td>ecommerce</td>\n",
       "      <td>2008</td>\n",
       "      <td>Proper Cloth</td>\n",
       "      <td>1.0</td>\n",
       "      <td>{'type': 'Point', 'coordinates': [-74.008767, ...</td>\n",
       "      <td>$100k</td>\n",
       "    </tr>\n",
       "    <tr>\n",
       "      <th>7</th>\n",
       "      <td>5c6af02fadf5549f750d3827</td>\n",
       "      <td>software</td>\n",
       "      <td>2009</td>\n",
       "      <td>GameChanger Media</td>\n",
       "      <td>20.0</td>\n",
       "      <td>{'type': 'Point', 'coordinates': [-74.0136605,...</td>\n",
       "      <td>$3.64M</td>\n",
       "    </tr>\n",
       "    <tr>\n",
       "      <th>8</th>\n",
       "      <td>5c6af02fadf5549f750d3828</td>\n",
       "      <td>ecommerce</td>\n",
       "      <td>2008</td>\n",
       "      <td>IntheGlo</td>\n",
       "      <td>5.0</td>\n",
       "      <td>{'type': 'Point', 'coordinates': [-73.987764, ...</td>\n",
       "      <td>$30k</td>\n",
       "    </tr>\n",
       "    <tr>\n",
       "      <th>9</th>\n",
       "      <td>5c6af02fadf5549f750d3831</td>\n",
       "      <td>games_video</td>\n",
       "      <td>2008</td>\n",
       "      <td>Moogi</td>\n",
       "      <td>NaN</td>\n",
       "      <td>{'type': 'Point', 'coordinates': [-74.0094471,...</td>\n",
       "      <td>$100k</td>\n",
       "    </tr>\n",
       "    <tr>\n",
       "      <th>10</th>\n",
       "      <td>5c6af02fadf5549f750d3843</td>\n",
       "      <td>web</td>\n",
       "      <td>2009</td>\n",
       "      <td>Catchafire</td>\n",
       "      <td>NaN</td>\n",
       "      <td>{'type': 'Point', 'coordinates': [-73.983171, ...</td>\n",
       "      <td>$400k</td>\n",
       "    </tr>\n",
       "    <tr>\n",
       "      <th>11</th>\n",
       "      <td>5c6af02fadf5549f750d384c</td>\n",
       "      <td>web</td>\n",
       "      <td>2008</td>\n",
       "      <td>StyleCaster</td>\n",
       "      <td>60.0</td>\n",
       "      <td>{'type': 'Point', 'coordinates': [-73.9900984,...</td>\n",
       "      <td>$5M</td>\n",
       "    </tr>\n",
       "    <tr>\n",
       "      <th>12</th>\n",
       "      <td>5c6af02fadf5549f750d3854</td>\n",
       "      <td>web</td>\n",
       "      <td>2009</td>\n",
       "      <td>ChallengePost</td>\n",
       "      <td>17.0</td>\n",
       "      <td>{'type': 'Point', 'coordinates': [-74.00717, 4...</td>\n",
       "      <td>$4.6M</td>\n",
       "    </tr>\n",
       "  </tbody>\n",
       "</table>\n",
       "</div>"
      ],
      "text/plain": [
       "                         _id category_code  founded_year               name  \\\n",
       "0   5c6af01fadf5549f750d37a8           web          2008          BeliefNet   \n",
       "1   5c6af01fadf5549f750d37af           web          2008            Kluster   \n",
       "2   5c6af01fadf5549f750d37c5           web          2008              Bitly   \n",
       "3   5c6af02fadf5549f750d37f9           web          2010              Yipit   \n",
       "4   5c6af02fadf5549f750d37fd           web          2008          Modelinia   \n",
       "5   5c6af02fadf5549f750d381b   games_video          2008       Crispy Gamer   \n",
       "6   5c6af02fadf5549f750d3823     ecommerce          2008       Proper Cloth   \n",
       "7   5c6af02fadf5549f750d3827      software          2009  GameChanger Media   \n",
       "8   5c6af02fadf5549f750d3828     ecommerce          2008           IntheGlo   \n",
       "9   5c6af02fadf5549f750d3831   games_video          2008              Moogi   \n",
       "10  5c6af02fadf5549f750d3843           web          2009         Catchafire   \n",
       "11  5c6af02fadf5549f750d384c           web          2008        StyleCaster   \n",
       "12  5c6af02fadf5549f750d3854           web          2009      ChallengePost   \n",
       "\n",
       "    number_of_employees                                           position  \\\n",
       "0                   NaN  {'type': 'Point', 'coordinates': [-73.985433, ...   \n",
       "1                   NaN  {'type': 'Point', 'coordinates': [-73.985281, ...   \n",
       "2                   NaN  {'type': 'Point', 'coordinates': [-74.00721, 4...   \n",
       "3                  23.0  {'type': 'Point', 'coordinates': [-73.987764, ...   \n",
       "4                   NaN  {'type': 'Point', 'coordinates': [-73.990024, ...   \n",
       "5                   NaN  {'type': 'Point', 'coordinates': [-73.985273, ...   \n",
       "6                   1.0  {'type': 'Point', 'coordinates': [-74.008767, ...   \n",
       "7                  20.0  {'type': 'Point', 'coordinates': [-74.0136605,...   \n",
       "8                   5.0  {'type': 'Point', 'coordinates': [-73.987764, ...   \n",
       "9                   NaN  {'type': 'Point', 'coordinates': [-74.0094471,...   \n",
       "10                  NaN  {'type': 'Point', 'coordinates': [-73.983171, ...   \n",
       "11                 60.0  {'type': 'Point', 'coordinates': [-73.9900984,...   \n",
       "12                 17.0  {'type': 'Point', 'coordinates': [-74.00717, 4...   \n",
       "\n",
       "   total_money_raised  \n",
       "0                 $7M  \n",
       "1                 $1M  \n",
       "2              $31.4M  \n",
       "3              $7.55M  \n",
       "4                 $5M  \n",
       "5              $8.25M  \n",
       "6               $100k  \n",
       "7              $3.64M  \n",
       "8                $30k  \n",
       "9               $100k  \n",
       "10              $400k  \n",
       "11                $5M  \n",
       "12              $4.6M  "
      ]
     },
     "execution_count": 19,
     "metadata": {},
     "output_type": "execute_result"
    }
   ],
   "source": [
    "cursor4= db.companiesjson.find()\n",
    "companies_found = []\n",
    "for i in cursor4:\n",
    "    cursor5 = db.companiesjson.find({\n",
    "              \"position\": {\n",
    "                \"$near\": {\n",
    "                  \"$geometry\": {\n",
    "                    \"type\": \"Point\",\n",
    "                    \"coordinates\": [i['position']['coordinates'][0], i['position']['coordinates'][1]]\n",
    "      },\n",
    "      \"$minDistance\": 0,\n",
    "      \"$maxDistance\":10000\n",
    "    }\n",
    "  }\n",
    "})\n",
    "    if cursor5.count() == 25:\n",
    "        companies_found.append(i)\n",
    "    \n",
    "import pandas as pd\n",
    "df4 = pd.DataFrame(list(companies_found))\n",
    "df4"
   ]
  },
  {
   "cell_type": "markdown",
   "metadata": {},
   "source": [
    "17. Para poder situar estas empresas en un mapa, a través de Tableau, necesitamos una columna con las longitudes y otra con las latitudes:"
   ]
  },
  {
   "cell_type": "code",
   "execution_count": 20,
   "metadata": {},
   "outputs": [
    {
     "data": {
      "text/html": [
       "<div>\n",
       "<style scoped>\n",
       "    .dataframe tbody tr th:only-of-type {\n",
       "        vertical-align: middle;\n",
       "    }\n",
       "\n",
       "    .dataframe tbody tr th {\n",
       "        vertical-align: top;\n",
       "    }\n",
       "\n",
       "    .dataframe thead th {\n",
       "        text-align: right;\n",
       "    }\n",
       "</style>\n",
       "<table border=\"1\" class=\"dataframe\">\n",
       "  <thead>\n",
       "    <tr style=\"text-align: right;\">\n",
       "      <th></th>\n",
       "      <th>_id</th>\n",
       "      <th>category_code</th>\n",
       "      <th>founded_year</th>\n",
       "      <th>name</th>\n",
       "      <th>number_of_employees</th>\n",
       "      <th>position</th>\n",
       "      <th>total_money_raised</th>\n",
       "      <th>long</th>\n",
       "      <th>lat</th>\n",
       "    </tr>\n",
       "  </thead>\n",
       "  <tbody>\n",
       "    <tr>\n",
       "      <th>0</th>\n",
       "      <td>5c6af01fadf5549f750d37a8</td>\n",
       "      <td>web</td>\n",
       "      <td>2008</td>\n",
       "      <td>BeliefNet</td>\n",
       "      <td>NaN</td>\n",
       "      <td>{'type': 'Point', 'coordinates': [-73.985433, ...</td>\n",
       "      <td>$7M</td>\n",
       "      <td>-73.985433</td>\n",
       "      <td>40.740231</td>\n",
       "    </tr>\n",
       "    <tr>\n",
       "      <th>1</th>\n",
       "      <td>5c6af01fadf5549f750d37af</td>\n",
       "      <td>web</td>\n",
       "      <td>2008</td>\n",
       "      <td>Kluster</td>\n",
       "      <td>NaN</td>\n",
       "      <td>{'type': 'Point', 'coordinates': [-73.985281, ...</td>\n",
       "      <td>$1M</td>\n",
       "      <td>-73.985281</td>\n",
       "      <td>40.723652</td>\n",
       "    </tr>\n",
       "    <tr>\n",
       "      <th>2</th>\n",
       "      <td>5c6af01fadf5549f750d37c5</td>\n",
       "      <td>web</td>\n",
       "      <td>2008</td>\n",
       "      <td>Bitly</td>\n",
       "      <td>NaN</td>\n",
       "      <td>{'type': 'Point', 'coordinates': [-74.00721, 4...</td>\n",
       "      <td>$31.4M</td>\n",
       "      <td>-74.007210</td>\n",
       "      <td>40.740340</td>\n",
       "    </tr>\n",
       "    <tr>\n",
       "      <th>3</th>\n",
       "      <td>5c6af02fadf5549f750d37f9</td>\n",
       "      <td>web</td>\n",
       "      <td>2010</td>\n",
       "      <td>Yipit</td>\n",
       "      <td>23.0</td>\n",
       "      <td>{'type': 'Point', 'coordinates': [-73.987764, ...</td>\n",
       "      <td>$7.55M</td>\n",
       "      <td>-73.987764</td>\n",
       "      <td>40.744618</td>\n",
       "    </tr>\n",
       "    <tr>\n",
       "      <th>4</th>\n",
       "      <td>5c6af02fadf5549f750d37fd</td>\n",
       "      <td>web</td>\n",
       "      <td>2008</td>\n",
       "      <td>Modelinia</td>\n",
       "      <td>NaN</td>\n",
       "      <td>{'type': 'Point', 'coordinates': [-73.990024, ...</td>\n",
       "      <td>$5M</td>\n",
       "      <td>-73.990024</td>\n",
       "      <td>40.739867</td>\n",
       "    </tr>\n",
       "  </tbody>\n",
       "</table>\n",
       "</div>"
      ],
      "text/plain": [
       "                        _id category_code  founded_year       name  \\\n",
       "0  5c6af01fadf5549f750d37a8           web          2008  BeliefNet   \n",
       "1  5c6af01fadf5549f750d37af           web          2008    Kluster   \n",
       "2  5c6af01fadf5549f750d37c5           web          2008      Bitly   \n",
       "3  5c6af02fadf5549f750d37f9           web          2010      Yipit   \n",
       "4  5c6af02fadf5549f750d37fd           web          2008  Modelinia   \n",
       "\n",
       "   number_of_employees                                           position  \\\n",
       "0                  NaN  {'type': 'Point', 'coordinates': [-73.985433, ...   \n",
       "1                  NaN  {'type': 'Point', 'coordinates': [-73.985281, ...   \n",
       "2                  NaN  {'type': 'Point', 'coordinates': [-74.00721, 4...   \n",
       "3                 23.0  {'type': 'Point', 'coordinates': [-73.987764, ...   \n",
       "4                  NaN  {'type': 'Point', 'coordinates': [-73.990024, ...   \n",
       "\n",
       "  total_money_raised       long        lat  \n",
       "0                $7M -73.985433  40.740231  \n",
       "1                $1M -73.985281  40.723652  \n",
       "2             $31.4M -74.007210  40.740340  \n",
       "3             $7.55M -73.987764  40.744618  \n",
       "4                $5M -73.990024  40.739867  "
      ]
     },
     "execution_count": 20,
     "metadata": {},
     "output_type": "execute_result"
    }
   ],
   "source": [
    "df4.position[0]['coordinates'][0]   #el primer registro, la primera coordinates, (longitude)\n",
    "\n",
    "df4['long'] = df4.apply(lambda row: row['position']['coordinates'][0], axis=1)\n",
    "df4['lat'] = df4.apply(lambda row: row['position']['coordinates'][1], axis=1)\n",
    "\n",
    "df4.head()"
   ]
  },
  {
   "cell_type": "markdown",
   "metadata": {},
   "source": [
    "18. Nos quedamos solo con las columnas que nos interesa mostrar en Tableau:"
   ]
  },
  {
   "cell_type": "code",
   "execution_count": 21,
   "metadata": {},
   "outputs": [],
   "source": [
    "df4.drop(['_id', 'position'], inplace=True, axis=1)"
   ]
  },
  {
   "cell_type": "markdown",
   "metadata": {},
   "source": [
    "19. Guardamos nuestro resultado como .JSON: "
   ]
  },
  {
   "cell_type": "code",
   "execution_count": 60,
   "metadata": {},
   "outputs": [],
   "source": [
    "df4.to_json('visualize_companies', orient=\"records\", lines=True)"
   ]
  },
  {
   "cell_type": "markdown",
   "metadata": {},
   "source": [
    "20. Conectamos desde Tableau con nuestro .JSON, y vemos el mapa:\n",
    "\n",
    "https://eu-west-1a.online.tableau.com/t/lausite/views/Companies_NYC20190219/Hoja1?iframeSizedToWindow=true&:embed=y&:showAppBanner=false&:display_count=no&:showVizHome=no"
   ]
  },
  {
   "cell_type": "markdown",
   "metadata": {},
   "source": [
    "He elegido como nueva ubicacion las coordenadas (-73.99010, 40.74505), que corresponde a la direccion 34 W 27th St, New York, NY 10001, EE. UU, ya que actualmente alli esta establecida una empresa de 60 empleados, por lo que las instalaciones seran adecuadas para la nuestra de 50."
   ]
  },
  {
   "cell_type": "markdown",
   "metadata": {},
   "source": [
    "Con Google Maps tenemos mas informacion sobre la zona:\n",
    "\n",
    "https://goo.gl/maps/4wkJFiuAc912"
   ]
  },
  {
   "cell_type": "markdown",
   "metadata": {},
   "source": [
    "Y podemos ver fotos de la propiedad en el siguiente enlace:\n",
    "\n",
    "https://streeteasy.com/building/43-west-27-street-new_york"
   ]
  }
 ],
 "metadata": {
  "kernelspec": {
   "display_name": "Python 3",
   "language": "python",
   "name": "python3"
  },
  "language_info": {
   "codemirror_mode": {
    "name": "ipython",
    "version": 3
   },
   "file_extension": ".py",
   "mimetype": "text/x-python",
   "name": "python",
   "nbconvert_exporter": "python",
   "pygments_lexer": "ipython3",
   "version": "3.6.7"
  }
 },
 "nbformat": 4,
 "nbformat_minor": 2
}
