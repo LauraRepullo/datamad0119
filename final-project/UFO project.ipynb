{
 "cells": [
  {
   "cell_type": "markdown",
   "metadata": {},
   "source": [
    "Origen de datos:https://www.kaggle.com/NUFORC/ufo-sightings#complete.csv\n",
    "\n",
    "Context\n",
    "This dataset contains over 80,000 reports of UFO sightings over the last century.\n",
    "\n",
    "Content\n",
    "There are two versions of this dataset: scrubbed and complete. The complete data includes entries where the location of the sighting was not found or blank (0.8146%) or have an erroneous or blank time (8.0237%). Since the reports date back to the 20th century, some older data might be obscured. Data contains city, state, time, description, and duration of each sighting.\n",
    "\n",
    "Inspiration\n",
    "What areas of the country are most likely to have UFO sightings?\n",
    "Are there any trends in UFO sightings over time? Do they tend to be clustered or seasonal?\n",
    "Do clusters of UFO sightings correlate with landmarks, such as airports or government research centers?\n",
    "What are the most common UFO descriptions?\n",
    "Acknowledgement\n",
    "This dataset was scraped, geolocated, and time standardized from NUFORC data by Sigmond Axel here."
   ]
  },
  {
   "cell_type": "code",
   "execution_count": 1,
   "metadata": {},
   "outputs": [
    {
     "name": "stderr",
     "output_type": "stream",
     "text": [
      "/home/laura/.local/lib/python3.6/site-packages/IPython/core/interactiveshell.py:3044: DtypeWarning: Columns (11) have mixed types. Specify dtype option on import or set low_memory=False.\n",
      "  interactivity=interactivity, compiler=compiler, result=result)\n"
     ]
    }
   ],
   "source": [
    "import pandas as pd\n",
    "import time\n",
    "from datetime import date\n",
    "from datetime import time\n",
    "import matplotlib.pyplot as plt\n",
    "from pandas.plotting import register_matplotlib_converters\n",
    "\n",
    "data = pd.read_csv('./UFO.csv')"
   ]
  },
  {
   "cell_type": "code",
   "execution_count": 2,
   "metadata": {},
   "outputs": [
    {
     "data": {
      "text/plain": [
       "(88875, 14)"
      ]
     },
     "execution_count": 2,
     "metadata": {},
     "output_type": "execute_result"
    }
   ],
   "source": [
    "data.shape"
   ]
  },
  {
   "cell_type": "code",
   "execution_count": 3,
   "metadata": {},
   "outputs": [
    {
     "data": {
      "text/plain": [
       "Index(['datetime', 'city', 'state', 'country', 'shape', 'duration (seconds)',\n",
       "       'duration (hours/min)', 'comments', 'date posted', 'latitude',\n",
       "       'longitude', 'Unnamed: 11', 'Unnamed: 12', 'Unnamed: 13'],\n",
       "      dtype='object')"
      ]
     },
     "execution_count": 3,
     "metadata": {},
     "output_type": "execute_result"
    }
   ],
   "source": [
    "data.columns"
   ]
  },
  {
   "cell_type": "code",
   "execution_count": 4,
   "metadata": {},
   "outputs": [
    {
     "data": {
      "text/html": [
       "<div>\n",
       "<style scoped>\n",
       "    .dataframe tbody tr th:only-of-type {\n",
       "        vertical-align: middle;\n",
       "    }\n",
       "\n",
       "    .dataframe tbody tr th {\n",
       "        vertical-align: top;\n",
       "    }\n",
       "\n",
       "    .dataframe thead th {\n",
       "        text-align: right;\n",
       "    }\n",
       "</style>\n",
       "<table border=\"1\" class=\"dataframe\">\n",
       "  <thead>\n",
       "    <tr style=\"text-align: right;\">\n",
       "      <th></th>\n",
       "      <th>datetime</th>\n",
       "      <th>city</th>\n",
       "      <th>state</th>\n",
       "      <th>country</th>\n",
       "      <th>shape</th>\n",
       "      <th>duration (seconds)</th>\n",
       "      <th>duration (hours/min)</th>\n",
       "      <th>comments</th>\n",
       "      <th>date posted</th>\n",
       "      <th>latitude</th>\n",
       "      <th>longitude</th>\n",
       "      <th>Unnamed: 11</th>\n",
       "      <th>Unnamed: 12</th>\n",
       "      <th>Unnamed: 13</th>\n",
       "    </tr>\n",
       "  </thead>\n",
       "  <tbody>\n",
       "    <tr>\n",
       "      <th>0</th>\n",
       "      <td>10/10/1949 20:30</td>\n",
       "      <td>san marcos</td>\n",
       "      <td>tx</td>\n",
       "      <td>us</td>\n",
       "      <td>cylinder</td>\n",
       "      <td>2700</td>\n",
       "      <td>45 minutes</td>\n",
       "      <td>This event took place in early fall around 194...</td>\n",
       "      <td>4/27/2004</td>\n",
       "      <td>29.8830556</td>\n",
       "      <td>-97.9411111</td>\n",
       "      <td>NaN</td>\n",
       "      <td>NaN</td>\n",
       "      <td>NaN</td>\n",
       "    </tr>\n",
       "    <tr>\n",
       "      <th>1</th>\n",
       "      <td>10/10/1949 21:00</td>\n",
       "      <td>lackland afb</td>\n",
       "      <td>tx</td>\n",
       "      <td>NaN</td>\n",
       "      <td>light</td>\n",
       "      <td>7200</td>\n",
       "      <td>1-2 hrs</td>\n",
       "      <td>1949 Lackland AFB&amp;#44 TX.  Lights racing acros...</td>\n",
       "      <td>12/16/2005</td>\n",
       "      <td>29.38421</td>\n",
       "      <td>-98.581082</td>\n",
       "      <td>NaN</td>\n",
       "      <td>NaN</td>\n",
       "      <td>NaN</td>\n",
       "    </tr>\n",
       "    <tr>\n",
       "      <th>2</th>\n",
       "      <td>10/10/1955 17:00</td>\n",
       "      <td>chester (uk/england)</td>\n",
       "      <td>NaN</td>\n",
       "      <td>gb</td>\n",
       "      <td>circle</td>\n",
       "      <td>20</td>\n",
       "      <td>20 seconds</td>\n",
       "      <td>Green/Orange circular disc over Chester&amp;#44 En...</td>\n",
       "      <td>1/21/2008</td>\n",
       "      <td>53.2</td>\n",
       "      <td>-2.916667</td>\n",
       "      <td>NaN</td>\n",
       "      <td>NaN</td>\n",
       "      <td>NaN</td>\n",
       "    </tr>\n",
       "    <tr>\n",
       "      <th>3</th>\n",
       "      <td>10/10/1956 21:00</td>\n",
       "      <td>edna</td>\n",
       "      <td>tx</td>\n",
       "      <td>us</td>\n",
       "      <td>circle</td>\n",
       "      <td>20</td>\n",
       "      <td>1/2 hour</td>\n",
       "      <td>My older brother and twin sister were leaving ...</td>\n",
       "      <td>1/17/2004</td>\n",
       "      <td>28.9783333</td>\n",
       "      <td>-96.6458333</td>\n",
       "      <td>NaN</td>\n",
       "      <td>NaN</td>\n",
       "      <td>NaN</td>\n",
       "    </tr>\n",
       "    <tr>\n",
       "      <th>4</th>\n",
       "      <td>10/10/1960 20:00</td>\n",
       "      <td>kaneohe</td>\n",
       "      <td>hi</td>\n",
       "      <td>us</td>\n",
       "      <td>light</td>\n",
       "      <td>900</td>\n",
       "      <td>15 minutes</td>\n",
       "      <td>AS a Marine 1st Lt. flying an FJ4B fighter/att...</td>\n",
       "      <td>1/22/2004</td>\n",
       "      <td>21.4180556</td>\n",
       "      <td>-157.8036111</td>\n",
       "      <td>NaN</td>\n",
       "      <td>NaN</td>\n",
       "      <td>NaN</td>\n",
       "    </tr>\n",
       "  </tbody>\n",
       "</table>\n",
       "</div>"
      ],
      "text/plain": [
       "           datetime                  city state country     shape  \\\n",
       "0  10/10/1949 20:30            san marcos    tx      us  cylinder   \n",
       "1  10/10/1949 21:00          lackland afb    tx     NaN     light   \n",
       "2  10/10/1955 17:00  chester (uk/england)   NaN      gb    circle   \n",
       "3  10/10/1956 21:00                  edna    tx      us    circle   \n",
       "4  10/10/1960 20:00               kaneohe    hi      us     light   \n",
       "\n",
       "  duration (seconds) duration (hours/min)  \\\n",
       "0               2700           45 minutes   \n",
       "1               7200              1-2 hrs   \n",
       "2                 20           20 seconds   \n",
       "3                 20             1/2 hour   \n",
       "4                900           15 minutes   \n",
       "\n",
       "                                            comments date posted    latitude  \\\n",
       "0  This event took place in early fall around 194...   4/27/2004  29.8830556   \n",
       "1  1949 Lackland AFB&#44 TX.  Lights racing acros...  12/16/2005    29.38421   \n",
       "2  Green/Orange circular disc over Chester&#44 En...   1/21/2008        53.2   \n",
       "3  My older brother and twin sister were leaving ...   1/17/2004  28.9783333   \n",
       "4  AS a Marine 1st Lt. flying an FJ4B fighter/att...   1/22/2004  21.4180556   \n",
       "\n",
       "      longitude Unnamed: 11  Unnamed: 12  Unnamed: 13  \n",
       "0   -97.9411111         NaN          NaN          NaN  \n",
       "1    -98.581082         NaN          NaN          NaN  \n",
       "2     -2.916667         NaN          NaN          NaN  \n",
       "3   -96.6458333         NaN          NaN          NaN  \n",
       "4  -157.8036111         NaN          NaN          NaN  "
      ]
     },
     "execution_count": 4,
     "metadata": {},
     "output_type": "execute_result"
    }
   ],
   "source": [
    "data.head()"
   ]
  },
  {
   "cell_type": "code",
   "execution_count": 5,
   "metadata": {},
   "outputs": [
    {
     "data": {
      "text/plain": [
       "datetime                 object\n",
       "city                     object\n",
       "state                    object\n",
       "country                  object\n",
       "shape                    object\n",
       "duration (seconds)       object\n",
       "duration (hours/min)     object\n",
       "comments                 object\n",
       "date posted              object\n",
       "latitude                 object\n",
       "longitude                object\n",
       "Unnamed: 11              object\n",
       "Unnamed: 12             float64\n",
       "Unnamed: 13             float64\n",
       "dtype: object"
      ]
     },
     "execution_count": 5,
     "metadata": {},
     "output_type": "execute_result"
    }
   ],
   "source": [
    "data.dtypes"
   ]
  },
  {
   "cell_type": "code",
   "execution_count": 6,
   "metadata": {
    "scrolled": true
   },
   "outputs": [],
   "source": [
    "data['datetime'] = pd.to_datetime(data['datetime'], errors='coerce') #datetime to datetime\n",
    "data['duration (seconds)'] = pd.to_numeric(data['duration (seconds)'], errors='coerce') #duration (seconds) to float\n",
    "data['latitude'] = pd.to_numeric(data['latitude'], errors='coerce') #latitud to float\n",
    "data['longitude'] = pd.to_numeric(data['longitude'], errors='coerce') #longitude to float\n",
    "data.dtypes\n",
    "data['city'] = data['city'].str.title()\n",
    "data['state'] = data['state'].str.upper()"
   ]
  },
  {
   "cell_type": "code",
   "execution_count": 7,
   "metadata": {},
   "outputs": [
    {
     "name": "stdout",
     "output_type": "stream",
     "text": [
      "97836000.0\n",
      "0.0\n"
     ]
    }
   ],
   "source": [
    "print(data['duration (seconds)'].max())\n",
    "print(data['duration (seconds)'].min())"
   ]
  },
  {
   "cell_type": "code",
   "execution_count": 8,
   "metadata": {},
   "outputs": [
    {
     "data": {
      "text/plain": [
       "0               173\n",
       "0.0              56\n",
       "-74.0063889      10\n",
       "-111.093731       6\n",
       "-122.3308333      4\n",
       "Name: Unnamed: 11, dtype: int64"
      ]
     },
     "execution_count": 8,
     "metadata": {},
     "output_type": "execute_result"
    }
   ],
   "source": [
    "data['Unnamed: 11'].value_counts().head()"
   ]
  },
  {
   "cell_type": "code",
   "execution_count": 9,
   "metadata": {},
   "outputs": [
    {
     "data": {
      "text/plain": [
       " 0.000000     6\n",
       " 24.857883    4\n",
       "-46.633309    1\n",
       "-28.673147    1\n",
       "-93.019722    1\n",
       "Name: Unnamed: 12, dtype: int64"
      ]
     },
     "execution_count": 9,
     "metadata": {},
     "output_type": "execute_result"
    }
   ],
   "source": [
    "data['Unnamed: 12'].value_counts().head()"
   ]
  },
  {
   "cell_type": "code",
   "execution_count": 10,
   "metadata": {},
   "outputs": [
    {
     "data": {
      "text/plain": [
       "-23.126667    1\n",
       " 0.000000     1\n",
       "Name: Unnamed: 13, dtype: int64"
      ]
     },
     "execution_count": 10,
     "metadata": {},
     "output_type": "execute_result"
    }
   ],
   "source": [
    "data['Unnamed: 13'].value_counts().head()"
   ]
  },
  {
   "cell_type": "code",
   "execution_count": 11,
   "metadata": {},
   "outputs": [
    {
     "name": "stdout",
     "output_type": "stream",
     "text": [
      "1906-11-11 00:00:00\n",
      "2014-05-08 18:45:00\n"
     ]
    }
   ],
   "source": [
    "print(data['datetime'].min())\n",
    "print(data['datetime'].max())"
   ]
  },
  {
   "cell_type": "code",
   "execution_count": 12,
   "metadata": {},
   "outputs": [
    {
     "data": {
      "text/html": [
       "<div>\n",
       "<style scoped>\n",
       "    .dataframe tbody tr th:only-of-type {\n",
       "        vertical-align: middle;\n",
       "    }\n",
       "\n",
       "    .dataframe tbody tr th {\n",
       "        vertical-align: top;\n",
       "    }\n",
       "\n",
       "    .dataframe thead th {\n",
       "        text-align: right;\n",
       "    }\n",
       "</style>\n",
       "<table border=\"1\" class=\"dataframe\">\n",
       "  <thead>\n",
       "    <tr style=\"text-align: right;\">\n",
       "      <th></th>\n",
       "      <th>datetime</th>\n",
       "      <th>city</th>\n",
       "      <th>state</th>\n",
       "      <th>country</th>\n",
       "      <th>shape</th>\n",
       "      <th>duration (seconds)</th>\n",
       "      <th>duration (hours/min)</th>\n",
       "      <th>comments</th>\n",
       "      <th>date posted</th>\n",
       "      <th>latitude</th>\n",
       "      <th>longitude</th>\n",
       "      <th>Unnamed: 11</th>\n",
       "      <th>Unnamed: 12</th>\n",
       "      <th>Unnamed: 13</th>\n",
       "      <th>date</th>\n",
       "      <th>time</th>\n",
       "    </tr>\n",
       "  </thead>\n",
       "  <tbody>\n",
       "    <tr>\n",
       "      <th>0</th>\n",
       "      <td>1949-10-10 20:30:00</td>\n",
       "      <td>San Marcos</td>\n",
       "      <td>TX</td>\n",
       "      <td>us</td>\n",
       "      <td>cylinder</td>\n",
       "      <td>2700.0</td>\n",
       "      <td>45 minutes</td>\n",
       "      <td>This event took place in early fall around 194...</td>\n",
       "      <td>4/27/2004</td>\n",
       "      <td>29.883056</td>\n",
       "      <td>-97.941111</td>\n",
       "      <td>NaN</td>\n",
       "      <td>NaN</td>\n",
       "      <td>NaN</td>\n",
       "      <td>1949-10-10</td>\n",
       "      <td>20:30:00</td>\n",
       "    </tr>\n",
       "    <tr>\n",
       "      <th>1</th>\n",
       "      <td>1949-10-10 21:00:00</td>\n",
       "      <td>Lackland Afb</td>\n",
       "      <td>TX</td>\n",
       "      <td>NaN</td>\n",
       "      <td>light</td>\n",
       "      <td>7200.0</td>\n",
       "      <td>1-2 hrs</td>\n",
       "      <td>1949 Lackland AFB&amp;#44 TX.  Lights racing acros...</td>\n",
       "      <td>12/16/2005</td>\n",
       "      <td>29.384210</td>\n",
       "      <td>-98.581082</td>\n",
       "      <td>NaN</td>\n",
       "      <td>NaN</td>\n",
       "      <td>NaN</td>\n",
       "      <td>1949-10-10</td>\n",
       "      <td>21:00:00</td>\n",
       "    </tr>\n",
       "    <tr>\n",
       "      <th>2</th>\n",
       "      <td>1955-10-10 17:00:00</td>\n",
       "      <td>Chester (Uk/England)</td>\n",
       "      <td>NaN</td>\n",
       "      <td>gb</td>\n",
       "      <td>circle</td>\n",
       "      <td>20.0</td>\n",
       "      <td>20 seconds</td>\n",
       "      <td>Green/Orange circular disc over Chester&amp;#44 En...</td>\n",
       "      <td>1/21/2008</td>\n",
       "      <td>53.200000</td>\n",
       "      <td>-2.916667</td>\n",
       "      <td>NaN</td>\n",
       "      <td>NaN</td>\n",
       "      <td>NaN</td>\n",
       "      <td>1955-10-10</td>\n",
       "      <td>17:00:00</td>\n",
       "    </tr>\n",
       "    <tr>\n",
       "      <th>3</th>\n",
       "      <td>1956-10-10 21:00:00</td>\n",
       "      <td>Edna</td>\n",
       "      <td>TX</td>\n",
       "      <td>us</td>\n",
       "      <td>circle</td>\n",
       "      <td>20.0</td>\n",
       "      <td>1/2 hour</td>\n",
       "      <td>My older brother and twin sister were leaving ...</td>\n",
       "      <td>1/17/2004</td>\n",
       "      <td>28.978333</td>\n",
       "      <td>-96.645833</td>\n",
       "      <td>NaN</td>\n",
       "      <td>NaN</td>\n",
       "      <td>NaN</td>\n",
       "      <td>1956-10-10</td>\n",
       "      <td>21:00:00</td>\n",
       "    </tr>\n",
       "    <tr>\n",
       "      <th>4</th>\n",
       "      <td>1960-10-10 20:00:00</td>\n",
       "      <td>Kaneohe</td>\n",
       "      <td>HI</td>\n",
       "      <td>us</td>\n",
       "      <td>light</td>\n",
       "      <td>900.0</td>\n",
       "      <td>15 minutes</td>\n",
       "      <td>AS a Marine 1st Lt. flying an FJ4B fighter/att...</td>\n",
       "      <td>1/22/2004</td>\n",
       "      <td>21.418056</td>\n",
       "      <td>-157.803611</td>\n",
       "      <td>NaN</td>\n",
       "      <td>NaN</td>\n",
       "      <td>NaN</td>\n",
       "      <td>1960-10-10</td>\n",
       "      <td>20:00:00</td>\n",
       "    </tr>\n",
       "  </tbody>\n",
       "</table>\n",
       "</div>"
      ],
      "text/plain": [
       "             datetime                  city state country     shape  \\\n",
       "0 1949-10-10 20:30:00            San Marcos    TX      us  cylinder   \n",
       "1 1949-10-10 21:00:00          Lackland Afb    TX     NaN     light   \n",
       "2 1955-10-10 17:00:00  Chester (Uk/England)   NaN      gb    circle   \n",
       "3 1956-10-10 21:00:00                  Edna    TX      us    circle   \n",
       "4 1960-10-10 20:00:00               Kaneohe    HI      us     light   \n",
       "\n",
       "   duration (seconds) duration (hours/min)  \\\n",
       "0              2700.0           45 minutes   \n",
       "1              7200.0              1-2 hrs   \n",
       "2                20.0           20 seconds   \n",
       "3                20.0             1/2 hour   \n",
       "4               900.0           15 minutes   \n",
       "\n",
       "                                            comments date posted   latitude  \\\n",
       "0  This event took place in early fall around 194...   4/27/2004  29.883056   \n",
       "1  1949 Lackland AFB&#44 TX.  Lights racing acros...  12/16/2005  29.384210   \n",
       "2  Green/Orange circular disc over Chester&#44 En...   1/21/2008  53.200000   \n",
       "3  My older brother and twin sister were leaving ...   1/17/2004  28.978333   \n",
       "4  AS a Marine 1st Lt. flying an FJ4B fighter/att...   1/22/2004  21.418056   \n",
       "\n",
       "    longitude Unnamed: 11  Unnamed: 12  Unnamed: 13        date      time  \n",
       "0  -97.941111         NaN          NaN          NaN  1949-10-10  20:30:00  \n",
       "1  -98.581082         NaN          NaN          NaN  1949-10-10  21:00:00  \n",
       "2   -2.916667         NaN          NaN          NaN  1955-10-10  17:00:00  \n",
       "3  -96.645833         NaN          NaN          NaN  1956-10-10  21:00:00  \n",
       "4 -157.803611         NaN          NaN          NaN  1960-10-10  20:00:00  "
      ]
     },
     "execution_count": 12,
     "metadata": {},
     "output_type": "execute_result"
    }
   ],
   "source": [
    "#split in date and time:\n",
    "data['date'] = [d.date() for d in data['datetime']]\n",
    "\n",
    "data['time'] = data.datetime.dt.time\n",
    "data.head()"
   ]
  },
  {
   "cell_type": "code",
   "execution_count": 13,
   "metadata": {},
   "outputs": [
    {
     "data": {
      "text/plain": [
       "array(['us', nan, 'gb', 'ca', 'au', 'nv', 'ms', 'tx', 'qc', 'r&eth', 'co',\n",
       "       'de', 'mo', 'fl', 'on', 'il', ' w)', ' (catalunya) (spain)', 'ne',\n",
       "       'wv', ' (finland)', 'ny', 'or', 'vt', 'mb', 'wa', 'tn', 'ga', 'wi',\n",
       "       ' 90 e on highway)', ' ??) (canada)', 'az', 'nh', ' 37000 ft.)',\n",
       "       'ks', 'al', 'va', 'ok', 'nj', 'bec)', 'md', 'nc',\n",
       "       ' we were traveling)', ' pod ralskem (czech republic)',\n",
       "       'n (sweden)', 'ri', 'pa', ' (sweden)', 'nm', 'wek (poland)', 'ct',\n",
       "       'sc', 'y (norway)', 'ar', 'pq', 'ab', 'mt', 'hi', 'ut',\n",
       "       'sand (sweden)', 'in', 'mi', 'a (argentina)', ' on cruise ship)',\n",
       "       ')', 'nd', 'e)', 'id', 'ma', 'ky', ' enroute)',\n",
       "       'rito santo state) (brazil)', 'bc', 'wy', '&#8218', 'ia', 'la',\n",
       "       'ak', ' 56)', 'dc', ' close to gilroy)', 'ns',\n",
       "       ' cerro prieto.&#44 b. c.', 'ndelag (norway)', 'me'], dtype=object)"
      ]
     },
     "execution_count": 13,
     "metadata": {},
     "output_type": "execute_result"
    }
   ],
   "source": [
    "data['country'].unique()"
   ]
  },
  {
   "cell_type": "code",
   "execution_count": 14,
   "metadata": {},
   "outputs": [
    {
     "data": {
      "text/plain": [
       "datetime                 1262\n",
       "city                      196\n",
       "state                    7396\n",
       "country                 12401\n",
       "shape                    3358\n",
       "duration (seconds)        403\n",
       "duration (hours/min)     3090\n",
       "comments                  154\n",
       "date posted                 3\n",
       "latitude                  679\n",
       "longitude                  39\n",
       "Unnamed: 11             88197\n",
       "Unnamed: 12             88836\n",
       "Unnamed: 13             88873\n",
       "date                     1262\n",
       "time                     1262\n",
       "dtype: int64"
      ]
     },
     "execution_count": 14,
     "metadata": {},
     "output_type": "execute_result"
    }
   ],
   "source": [
    "data.isnull().sum()\n",
    "#hay que eliminar las columnas: Unnamed: 11 (88197), Unnamed: 12 (88836), Unnamed: 13 (88873)"
   ]
  },
  {
   "cell_type": "code",
   "execution_count": 15,
   "metadata": {},
   "outputs": [
    {
     "data": {
      "text/plain": [
       "(70420, 12)"
      ]
     },
     "execution_count": 15,
     "metadata": {},
     "output_type": "execute_result"
    }
   ],
   "source": [
    "# eliminamos las columnas que tienen casi todos los valores, nulos, y las filas con algun valor nuloççççççç:\n",
    "data1 = data.drop(['Unnamed: 11', 'Unnamed: 12', 'Unnamed: 13','duration (hours/min)'], axis=1).dropna(axis=0, how='any', inplace=False)\n",
    "data1.shape"
   ]
  },
  {
   "cell_type": "code",
   "execution_count": 16,
   "metadata": {},
   "outputs": [
    {
     "data": {
      "text/plain": [
       "datetime              0\n",
       "city                  0\n",
       "state                 0\n",
       "country               0\n",
       "shape                 0\n",
       "duration (seconds)    0\n",
       "comments              0\n",
       "date posted           0\n",
       "latitude              0\n",
       "longitude             0\n",
       "date                  0\n",
       "time                  0\n",
       "dtype: int64"
      ]
     },
     "execution_count": 16,
     "metadata": {},
     "output_type": "execute_result"
    }
   ],
   "source": [
    "data1.isnull().sum()"
   ]
  },
  {
   "cell_type": "code",
   "execution_count": 17,
   "metadata": {},
   "outputs": [
    {
     "data": {
      "text/plain": [
       "(70420, 12)"
      ]
     },
     "execution_count": 17,
     "metadata": {},
     "output_type": "execute_result"
    }
   ],
   "source": [
    "data1.shape"
   ]
  },
  {
   "cell_type": "code",
   "execution_count": 18,
   "metadata": {},
   "outputs": [
    {
     "data": {
      "text/plain": [
       "Seattle                                                      488\n",
       "Phoenix                                                      461\n",
       "Las Vegas                                                    376\n",
       "Portland                                                     370\n",
       "Los Angeles                                                  361\n",
       "San Diego                                                    344\n",
       "Houston                                                      305\n",
       "Chicago                                                      282\n",
       "Tucson                                                       250\n",
       "Miami                                                        245\n",
       "Orlando                                                      226\n",
       "Austin                                                       218\n",
       "Springfield                                                  217\n",
       "Albuquerque                                                  214\n",
       "Columbus                                                     207\n",
       "Sacramento                                                   206\n",
       "San Francisco                                                193\n",
       "Denver                                                       193\n",
       "San Jose                                                     192\n",
       "San Antonio                                                  189\n",
       "Jacksonville                                                 176\n",
       "Toronto (Canada)                                             175\n",
       "Dallas                                                       169\n",
       "Myrtle Beach                                                 163\n",
       "Charlotte                                                    161\n",
       "Salem                                                        160\n",
       "Columbia                                                     154\n",
       "New York City (Brooklyn)                                     153\n",
       "Mesa                                                         148\n",
       "Indianapolis                                                 145\n",
       "                                                            ... \n",
       "Sherburne                                                      1\n",
       "Longbranch                                                     1\n",
       "Santa Cruz (@ 3200Ft Near Bonnie Doon Airport)                 1\n",
       "Lind                                                           1\n",
       "Xenia (West Of)                                                1\n",
       "Ceredo                                                         1\n",
       "Strathroy (East Of) (Canada)                                   1\n",
       "Condon                                                         1\n",
       "Netcong                                                        1\n",
       "Thackery                                                       1\n",
       "Chardon                                                        1\n",
       "Snydersburg                                                    1\n",
       "Roseboom                                                       1\n",
       "Walkerton (Canada)                                             1\n",
       "Dudley (S. Worcester Co.)                                      1\n",
       "Rankin                                                         1\n",
       "White Pine                                                     1\n",
       "Lubbock (Outside City Limits)                                  1\n",
       "Sequoia National Park                                          1\n",
       "Santa Rita                                                     1\n",
       "Kaktovik                                                       1\n",
       "Ashburnham                                                     1\n",
       "East Palatka                                                   1\n",
       "Middle Island (Long Island)                                    1\n",
       "Greenwater (Near&#44 By Mt. Rainier)                           1\n",
       "Demotte                                                        1\n",
       "Daytona Beach (Outside Limits Of)                              1\n",
       "Eagle Bay                                                      1\n",
       "Desert Center (~West To 10 Miles East Of Chiriaco Summit)      1\n",
       "Ramona (Ne San Diego)                                          1\n",
       "Name: city, Length: 12113, dtype: int64"
      ]
     },
     "execution_count": 18,
     "metadata": {},
     "output_type": "execute_result"
    }
   ],
   "source": [
    "data1.city.value_counts()"
   ]
  },
  {
   "cell_type": "code",
   "execution_count": null,
   "metadata": {},
   "outputs": [
    {
     "data": {
      "text/plain": [
       "Seattle                                                      488\n",
       "Phoenix                                                      461\n",
       "Las Vegas                                                    376\n",
       "Portland                                                     370\n",
       "Los Angeles                                                  361\n",
       "San Diego                                                    344\n",
       "Houston                                                      305\n",
       "Chicago                                                      282\n",
       "Tucson                                                       250\n",
       "Miami                                                        245\n",
       "Orlando                                                      226\n",
       "Austin                                                       218\n",
       "Springfield                                                  217\n",
       "Albuquerque                                                  214\n",
       "Columbus                                                     207\n",
       "Sacramento                                                   206\n",
       "San Francisco                                                193\n",
       "Denver                                                       193\n",
       "San Jose                                                     192\n",
       "San Antonio                                                  189\n",
       "Jacksonville                                                 176\n",
       "Toronto (Canada)                                             175\n",
       "Dallas                                                       169\n",
       "Myrtle Beach                                                 163\n",
       "Charlotte                                                    161\n",
       "Salem                                                        160\n",
       "Columbia                                                     154\n",
       "New York City (Brooklyn)                                     153\n",
       "Mesa                                                         148\n",
       "Indianapolis                                                 145\n",
       "                                                            ... \n",
       "Sherburne                                                      1\n",
       "Longbranch                                                     1\n",
       "Santa Cruz (@ 3200Ft Near Bonnie Doon Airport)                 1\n",
       "Lind                                                           1\n",
       "Xenia (West Of)                                                1\n",
       "Ceredo                                                         1\n",
       "Strathroy (East Of) (Canada)                                   1\n",
       "Condon                                                         1\n",
       "Netcong                                                        1\n",
       "Thackery                                                       1\n",
       "Chardon                                                        1\n",
       "Snydersburg                                                    1\n",
       "Roseboom                                                       1\n",
       "Walkerton (Canada)                                             1\n",
       "Dudley (S. Worcester Co.)                                      1\n",
       "Rankin                                                         1\n",
       "White Pine                                                     1\n",
       "Lubbock (Outside City Limits)                                  1\n",
       "Sequoia National Park                                          1\n",
       "Santa Rita                                                     1\n",
       "Kaktovik                                                       1\n",
       "Ashburnham                                                     1\n",
       "East Palatka                                                   1\n",
       "Middle Island (Long Island)                                    1\n",
       "Greenwater (Near&#44 By Mt. Rainier)                           1\n",
       "Demotte                                                        1\n",
       "Daytona Beach (Outside Limits Of)                              1\n",
       "Eagle Bay                                                      1\n",
       "Desert Center (~West To 10 Miles East Of Chiriaco Summit)      1\n",
       "Ramona (Ne San Diego)                                          1\n",
       "Name: city, Length: 12113, dtype: int64"
      ]
     },
     "execution_count": 19,
     "metadata": {},
     "output_type": "execute_result"
    }
   ],
   "source": [
    "#data1.city = data1.city.replace(\"(Canada)\", \" \")\n",
    "data1.replace({'city': {'Canada',''}})\n",
    "data1.city.value_counts()"
   ]
  },
  {
   "cell_type": "code",
   "execution_count": null,
   "metadata": {},
   "outputs": [],
   "source": [
    "#data1.to_csv(\"UFO_modify1.csv\")"
   ]
  },
  {
   "cell_type": "code",
   "execution_count": null,
   "metadata": {},
   "outputs": [
    {
     "name": "stderr",
     "output_type": "stream",
     "text": [
      "/home/laura/.local/lib/python3.6/site-packages/pandas/plotting/_converter.py:129: FutureWarning: Using an implicitly registered datetime converter for a matplotlib plotting method. The converter was registered by pandas on import. Future versions of pandas will require you to explicitly register matplotlib converters.\n",
      "\n",
      "To register the converters:\n",
      "\t>>> from pandas.plotting import register_matplotlib_converters\n",
      "\t>>> register_matplotlib_converters()\n",
      "  warnings.warn(msg, FutureWarning)\n"
     ]
    }
   ],
   "source": [
    "data1.date.hist()"
   ]
  },
  {
   "cell_type": "code",
   "execution_count": null,
   "metadata": {},
   "outputs": [],
   "source": []
  }
 ],
 "metadata": {
  "kernelspec": {
   "display_name": "Python 3",
   "language": "python",
   "name": "python3"
  },
  "language_info": {
   "codemirror_mode": {
    "name": "ipython",
    "version": 3
   },
   "file_extension": ".py",
   "mimetype": "text/x-python",
   "name": "python",
   "nbconvert_exporter": "python",
   "pygments_lexer": "ipython3",
   "version": "3.6.7"
  }
 },
 "nbformat": 4,
 "nbformat_minor": 2
}
