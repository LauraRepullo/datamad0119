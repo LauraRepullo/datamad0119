{
 "cells": [
  {
   "cell_type": "markdown",
   "metadata": {},
   "source": [
    "Origen de datos:https://www.kaggle.com/NUFORC/ufo-sightings#complete.csv\n",
    "\n",
    "Context\n",
    "This dataset contains over 80,000 reports of UFO sightings over the last century.\n",
    "\n",
    "Content\n",
    "There are two versions of this dataset: scrubbed and complete. The complete data includes entries where the location of the sighting was not found or blank (0.8146%) or have an erroneous or blank time (8.0237%). Since the reports date back to the 20th century, some older data might be obscured. Data contains city, state, time, description, and duration of each sighting.\n",
    "\n",
    "Inspiration\n",
    "What areas of the country are most likely to have UFO sightings?\n",
    "Are there any trends in UFO sightings over time? Do they tend to be clustered or seasonal?\n",
    "Do clusters of UFO sightings correlate with landmarks, such as airports or government research centers?\n",
    "What are the most common UFO descriptions?\n",
    "Acknowledgement\n",
    "This dataset was scraped, geolocated, and time standardized from NUFORC data by Sigmond Axel here."
   ]
  },
  {
   "cell_type": "code",
   "execution_count": 1,
   "metadata": {},
   "outputs": [
    {
     "name": "stderr",
     "output_type": "stream",
     "text": [
      "/home/laura/.local/lib/python3.6/site-packages/IPython/core/interactiveshell.py:3044: DtypeWarning: Columns (11) have mixed types. Specify dtype option on import or set low_memory=False.\n",
      "  interactivity=interactivity, compiler=compiler, result=result)\n"
     ]
    }
   ],
   "source": [
    "import pandas as pd\n",
    "import time\n",
    "from datetime import date\n",
    "\n",
    "data = pd.read_csv('./UFO.csv')"
   ]
  },
  {
   "cell_type": "code",
   "execution_count": 2,
   "metadata": {},
   "outputs": [
    {
     "data": {
      "text/plain": [
       "(88875, 14)"
      ]
     },
     "execution_count": 2,
     "metadata": {},
     "output_type": "execute_result"
    }
   ],
   "source": [
    "data.shape"
   ]
  },
  {
   "cell_type": "code",
   "execution_count": 3,
   "metadata": {},
   "outputs": [
    {
     "data": {
      "text/plain": [
       "Index(['datetime', 'city', 'state', 'country', 'shape', 'duration (seconds)',\n",
       "       'duration (hours/min)', 'comments', 'date posted', 'latitude',\n",
       "       'longitude', 'Unnamed: 11', 'Unnamed: 12', 'Unnamed: 13'],\n",
       "      dtype='object')"
      ]
     },
     "execution_count": 3,
     "metadata": {},
     "output_type": "execute_result"
    }
   ],
   "source": [
    "data.columns"
   ]
  },
  {
   "cell_type": "code",
   "execution_count": 4,
   "metadata": {},
   "outputs": [
    {
     "data": {
      "text/html": [
       "<div>\n",
       "<style scoped>\n",
       "    .dataframe tbody tr th:only-of-type {\n",
       "        vertical-align: middle;\n",
       "    }\n",
       "\n",
       "    .dataframe tbody tr th {\n",
       "        vertical-align: top;\n",
       "    }\n",
       "\n",
       "    .dataframe thead th {\n",
       "        text-align: right;\n",
       "    }\n",
       "</style>\n",
       "<table border=\"1\" class=\"dataframe\">\n",
       "  <thead>\n",
       "    <tr style=\"text-align: right;\">\n",
       "      <th></th>\n",
       "      <th>datetime</th>\n",
       "      <th>city</th>\n",
       "      <th>state</th>\n",
       "      <th>country</th>\n",
       "      <th>shape</th>\n",
       "      <th>duration (seconds)</th>\n",
       "      <th>duration (hours/min)</th>\n",
       "      <th>comments</th>\n",
       "      <th>date posted</th>\n",
       "      <th>latitude</th>\n",
       "      <th>longitude</th>\n",
       "      <th>Unnamed: 11</th>\n",
       "      <th>Unnamed: 12</th>\n",
       "      <th>Unnamed: 13</th>\n",
       "    </tr>\n",
       "  </thead>\n",
       "  <tbody>\n",
       "    <tr>\n",
       "      <th>0</th>\n",
       "      <td>10/10/1949 20:30</td>\n",
       "      <td>san marcos</td>\n",
       "      <td>tx</td>\n",
       "      <td>us</td>\n",
       "      <td>cylinder</td>\n",
       "      <td>2700</td>\n",
       "      <td>45 minutes</td>\n",
       "      <td>This event took place in early fall around 194...</td>\n",
       "      <td>4/27/2004</td>\n",
       "      <td>29.8830556</td>\n",
       "      <td>-97.9411111</td>\n",
       "      <td>NaN</td>\n",
       "      <td>NaN</td>\n",
       "      <td>NaN</td>\n",
       "    </tr>\n",
       "    <tr>\n",
       "      <th>1</th>\n",
       "      <td>10/10/1949 21:00</td>\n",
       "      <td>lackland afb</td>\n",
       "      <td>tx</td>\n",
       "      <td>NaN</td>\n",
       "      <td>light</td>\n",
       "      <td>7200</td>\n",
       "      <td>1-2 hrs</td>\n",
       "      <td>1949 Lackland AFB&amp;#44 TX.  Lights racing acros...</td>\n",
       "      <td>12/16/2005</td>\n",
       "      <td>29.38421</td>\n",
       "      <td>-98.581082</td>\n",
       "      <td>NaN</td>\n",
       "      <td>NaN</td>\n",
       "      <td>NaN</td>\n",
       "    </tr>\n",
       "    <tr>\n",
       "      <th>2</th>\n",
       "      <td>10/10/1955 17:00</td>\n",
       "      <td>chester (uk/england)</td>\n",
       "      <td>NaN</td>\n",
       "      <td>gb</td>\n",
       "      <td>circle</td>\n",
       "      <td>20</td>\n",
       "      <td>20 seconds</td>\n",
       "      <td>Green/Orange circular disc over Chester&amp;#44 En...</td>\n",
       "      <td>1/21/2008</td>\n",
       "      <td>53.2</td>\n",
       "      <td>-2.916667</td>\n",
       "      <td>NaN</td>\n",
       "      <td>NaN</td>\n",
       "      <td>NaN</td>\n",
       "    </tr>\n",
       "    <tr>\n",
       "      <th>3</th>\n",
       "      <td>10/10/1956 21:00</td>\n",
       "      <td>edna</td>\n",
       "      <td>tx</td>\n",
       "      <td>us</td>\n",
       "      <td>circle</td>\n",
       "      <td>20</td>\n",
       "      <td>1/2 hour</td>\n",
       "      <td>My older brother and twin sister were leaving ...</td>\n",
       "      <td>1/17/2004</td>\n",
       "      <td>28.9783333</td>\n",
       "      <td>-96.6458333</td>\n",
       "      <td>NaN</td>\n",
       "      <td>NaN</td>\n",
       "      <td>NaN</td>\n",
       "    </tr>\n",
       "    <tr>\n",
       "      <th>4</th>\n",
       "      <td>10/10/1960 20:00</td>\n",
       "      <td>kaneohe</td>\n",
       "      <td>hi</td>\n",
       "      <td>us</td>\n",
       "      <td>light</td>\n",
       "      <td>900</td>\n",
       "      <td>15 minutes</td>\n",
       "      <td>AS a Marine 1st Lt. flying an FJ4B fighter/att...</td>\n",
       "      <td>1/22/2004</td>\n",
       "      <td>21.4180556</td>\n",
       "      <td>-157.8036111</td>\n",
       "      <td>NaN</td>\n",
       "      <td>NaN</td>\n",
       "      <td>NaN</td>\n",
       "    </tr>\n",
       "  </tbody>\n",
       "</table>\n",
       "</div>"
      ],
      "text/plain": [
       "           datetime                  city state country     shape  \\\n",
       "0  10/10/1949 20:30            san marcos    tx      us  cylinder   \n",
       "1  10/10/1949 21:00          lackland afb    tx     NaN     light   \n",
       "2  10/10/1955 17:00  chester (uk/england)   NaN      gb    circle   \n",
       "3  10/10/1956 21:00                  edna    tx      us    circle   \n",
       "4  10/10/1960 20:00               kaneohe    hi      us     light   \n",
       "\n",
       "  duration (seconds) duration (hours/min)  \\\n",
       "0               2700           45 minutes   \n",
       "1               7200              1-2 hrs   \n",
       "2                 20           20 seconds   \n",
       "3                 20             1/2 hour   \n",
       "4                900           15 minutes   \n",
       "\n",
       "                                            comments date posted    latitude  \\\n",
       "0  This event took place in early fall around 194...   4/27/2004  29.8830556   \n",
       "1  1949 Lackland AFB&#44 TX.  Lights racing acros...  12/16/2005    29.38421   \n",
       "2  Green/Orange circular disc over Chester&#44 En...   1/21/2008        53.2   \n",
       "3  My older brother and twin sister were leaving ...   1/17/2004  28.9783333   \n",
       "4  AS a Marine 1st Lt. flying an FJ4B fighter/att...   1/22/2004  21.4180556   \n",
       "\n",
       "      longitude Unnamed: 11  Unnamed: 12  Unnamed: 13  \n",
       "0   -97.9411111         NaN          NaN          NaN  \n",
       "1    -98.581082         NaN          NaN          NaN  \n",
       "2     -2.916667         NaN          NaN          NaN  \n",
       "3   -96.6458333         NaN          NaN          NaN  \n",
       "4  -157.8036111         NaN          NaN          NaN  "
      ]
     },
     "execution_count": 4,
     "metadata": {},
     "output_type": "execute_result"
    }
   ],
   "source": [
    "data.head()"
   ]
  },
  {
   "cell_type": "code",
   "execution_count": 5,
   "metadata": {},
   "outputs": [
    {
     "data": {
      "text/plain": [
       "0            2700\n",
       "1            7200\n",
       "2              20\n",
       "3              20\n",
       "4             900\n",
       "5             300\n",
       "6             180\n",
       "7            1200\n",
       "8             180\n",
       "9             120\n",
       "10            300\n",
       "11            180\n",
       "12           1800\n",
       "13            180\n",
       "14             30\n",
       "15           1200\n",
       "16            120\n",
       "17           1800\n",
       "18             20\n",
       "19            120\n",
       "20           2700\n",
       "21           1200\n",
       "22           1200\n",
       "23            360\n",
       "24             60\n",
       "25              3\n",
       "26             30\n",
       "27             30\n",
       "28            300\n",
       "29            900\n",
       "           ...   \n",
       "88845        1290\n",
       "88846          60\n",
       "88847         300\n",
       "88848         900\n",
       "88849           5\n",
       "88850           1\n",
       "88851    triangle\n",
       "88852         120\n",
       "88853           4\n",
       "88854           0\n",
       "88855           0\n",
       "88856           8\n",
       "88857          90\n",
       "88858           0\n",
       "88859        3600\n",
       "88860          60\n",
       "88861           3\n",
       "88862          15\n",
       "88863          60\n",
       "88864         120\n",
       "88865         180\n",
       "88866          20\n",
       "88867         600\n",
       "88868        1200\n",
       "88869           0\n",
       "88870        1200\n",
       "88871           5\n",
       "88872        1020\n",
       "88873           0\n",
       "88874           0\n",
       "Name: duration (seconds), Length: 88875, dtype: object"
      ]
     },
     "execution_count": 5,
     "metadata": {},
     "output_type": "execute_result"
    }
   ],
   "source": [
    "data['duration (seconds)']"
   ]
  },
  {
   "cell_type": "code",
   "execution_count": 8,
   "metadata": {},
   "outputs": [
    {
     "data": {
      "text/plain": [
       "datetime                datetime64[ns]\n",
       "city                            object\n",
       "state                           object\n",
       "country                         object\n",
       "shape                           object\n",
       "duration (seconds)              object\n",
       "duration (hours/min)            object\n",
       "comments                        object\n",
       "date posted                     object\n",
       "latitude                        object\n",
       "longitude                       object\n",
       "Unnamed: 11                     object\n",
       "Unnamed: 12                    float64\n",
       "Unnamed: 13                    float64\n",
       "dtype: object"
      ]
     },
     "execution_count": 8,
     "metadata": {},
     "output_type": "execute_result"
    }
   ],
   "source": [
    "data.dtypes"
   ]
  },
  {
   "cell_type": "code",
   "execution_count": 13,
   "metadata": {
    "scrolled": true
   },
   "outputs": [
    {
     "data": {
      "text/plain": [
       "datetime                datetime64[ns]\n",
       "city                            object\n",
       "state                           object\n",
       "country                         object\n",
       "shape                           object\n",
       "duration (seconds)             float64\n",
       "duration (hours/min)            object\n",
       "comments                        object\n",
       "date posted                     object\n",
       "latitude                       float64\n",
       "longitude                      float64\n",
       "Unnamed: 11                     object\n",
       "Unnamed: 12                    float64\n",
       "Unnamed: 13                    float64\n",
       "dtype: object"
      ]
     },
     "execution_count": 13,
     "metadata": {},
     "output_type": "execute_result"
    }
   ],
   "source": [
    "data['datetime'] = pd.to_datetime(data['datetime'], errors='coerce') #datetime to datetime\n",
    "data['duration (seconds)'] = pd.to_numeric(data['duration (seconds)'], errors='coerce') #duration (seconds) to float\n",
    "#data['duration (seconds)'] = data['duration (seconds)'].astype(int)\n",
    "data['latitude'] = pd.to_numeric(data['latitude'], errors='coerce') #latitud to float\n",
    "data['longitude'] = pd.to_numeric(data['longitude'], errors='coerce') #longitude to float\n",
    "data.dtypes"
   ]
  },
  {
   "cell_type": "code",
   "execution_count": 14,
   "metadata": {},
   "outputs": [
    {
     "data": {
      "text/plain": [
       "0        2700.0\n",
       "1        7200.0\n",
       "2          20.0\n",
       "3          20.0\n",
       "4         900.0\n",
       "5         300.0\n",
       "6         180.0\n",
       "7        1200.0\n",
       "8         180.0\n",
       "9         120.0\n",
       "10        300.0\n",
       "11        180.0\n",
       "12       1800.0\n",
       "13        180.0\n",
       "14         30.0\n",
       "15       1200.0\n",
       "16        120.0\n",
       "17       1800.0\n",
       "18         20.0\n",
       "19        120.0\n",
       "20       2700.0\n",
       "21       1200.0\n",
       "22       1200.0\n",
       "23        360.0\n",
       "24         60.0\n",
       "25          3.0\n",
       "26         30.0\n",
       "27         30.0\n",
       "28        300.0\n",
       "29        900.0\n",
       "          ...  \n",
       "88845    1290.0\n",
       "88846      60.0\n",
       "88847     300.0\n",
       "88848     900.0\n",
       "88849       5.0\n",
       "88850       1.0\n",
       "88851       NaN\n",
       "88852     120.0\n",
       "88853       4.0\n",
       "88854       0.0\n",
       "88855       0.0\n",
       "88856       8.0\n",
       "88857      90.0\n",
       "88858       0.0\n",
       "88859    3600.0\n",
       "88860      60.0\n",
       "88861       3.0\n",
       "88862      15.0\n",
       "88863      60.0\n",
       "88864     120.0\n",
       "88865     180.0\n",
       "88866      20.0\n",
       "88867     600.0\n",
       "88868    1200.0\n",
       "88869       0.0\n",
       "88870    1200.0\n",
       "88871       5.0\n",
       "88872    1020.0\n",
       "88873       0.0\n",
       "88874       0.0\n",
       "Name: duration (seconds), Length: 88875, dtype: float64"
      ]
     },
     "execution_count": 14,
     "metadata": {},
     "output_type": "execute_result"
    }
   ],
   "source": [
    "data['duration (seconds)']"
   ]
  },
  {
   "cell_type": "code",
   "execution_count": 15,
   "metadata": {},
   "outputs": [
    {
     "data": {
      "text/plain": [
       "0                      173\n",
       "0.0                     56\n",
       "-74.0063889             10\n",
       "-111.093731              6\n",
       "-91.831833               4\n",
       "-122.3308333             4\n",
       "-46.633309               4\n",
       "-105.87008999999999      3\n",
       "-115.1363889             3\n",
       "60.631811                3\n",
       "-112.0733333             2\n",
       "-121.49333329999999      2\n",
       "-122.0597222             2\n",
       "-120.554201              2\n",
       "-84.3880556              2\n",
       "-89.398528               2\n",
       "-99.901813               2\n",
       "-78.656894               2\n",
       "-89.398528               2\n",
       "1.297355                 2\n",
       "10.407561                2\n",
       "-74.0063889              2\n",
       "-95.3630556              2\n",
       "-117.425                 2\n",
       "-62.88333299999999       2\n",
       "13.193401000000001       2\n",
       "-76.6125000              2\n",
       "9.939686                 1\n",
       "-87.7516667              1\n",
       "-3.056637                1\n",
       "                      ... \n",
       "-119.0119444             1\n",
       "-95.8588889              1\n",
       "-30.97631                1\n",
       "-86.134902               1\n",
       "-123.13350200000001      1\n",
       "-114.61601               1\n",
       "-120.373613              1\n",
       "-117.1652778             1\n",
       "-121.232443              1\n",
       "-23.55052                1\n",
       "-97.6686111              1\n",
       "-118.1436111             1\n",
       "-83.5819444              1\n",
       "-113.8                   1\n",
       "-82.4738889              1\n",
       "-81.240869               1\n",
       "-91.2394444              1\n",
       "-109.2461111             1\n",
       "-73.7850000              1\n",
       "-102.4963889             1\n",
       "-49.383557               1\n",
       "-81.010845               1\n",
       "-128.7                   1\n",
       "-122.0797222             1\n",
       "14.366667                1\n",
       "-75.190811               1\n",
       "-72.9286111              1\n",
       "7.405693                 1\n",
       "-128.583333              1\n",
       "-96.4                    1\n",
       "Name: Unnamed: 11, Length: 405, dtype: int64"
      ]
     },
     "execution_count": 15,
     "metadata": {},
     "output_type": "execute_result"
    }
   ],
   "source": [
    "data['Unnamed: 11'].value_counts()"
   ]
  },
  {
   "cell_type": "code",
   "execution_count": 16,
   "metadata": {},
   "outputs": [
    {
     "data": {
      "text/plain": [
       " 0.000000        6\n",
       " 24.857883       4\n",
       "-46.633309       1\n",
       "-28.673147       1\n",
       "-93.019722       1\n",
       " 1.602034        1\n",
       "-40.295777       1\n",
       " 5.113554        1\n",
       "-77.008889       1\n",
       " 47.481766       1\n",
       "-103.666667      1\n",
       " 4.477793        1\n",
       "-96.050000       1\n",
       "-108.188584      1\n",
       "-71267.000000    1\n",
       "-121.271389      1\n",
       "-116.419389      1\n",
       " 17.637930       1\n",
       " 14.082748       1\n",
       "-86.286111       1\n",
       " 2.213749        1\n",
       "-64.095813       1\n",
       "-122.742778      1\n",
       "-87.791711       1\n",
       "-111.248301      1\n",
       " 66.075833       1\n",
       "-121.424167      1\n",
       "-73.245833       1\n",
       " 17.940871       1\n",
       " 14.696725       1\n",
       " 14.801027       1\n",
       "Name: Unnamed: 12, dtype: int64"
      ]
     },
     "execution_count": 16,
     "metadata": {},
     "output_type": "execute_result"
    }
   ],
   "source": [
    "data['Unnamed: 12'].value_counts()"
   ]
  },
  {
   "cell_type": "code",
   "execution_count": 17,
   "metadata": {},
   "outputs": [
    {
     "data": {
      "text/plain": [
       "-23.126667    1\n",
       " 0.000000     1\n",
       "Name: Unnamed: 13, dtype: int64"
      ]
     },
     "execution_count": 17,
     "metadata": {},
     "output_type": "execute_result"
    }
   ],
   "source": [
    "data['Unnamed: 13'].value_counts()"
   ]
  },
  {
   "cell_type": "code",
   "execution_count": 18,
   "metadata": {},
   "outputs": [
    {
     "name": "stdout",
     "output_type": "stream",
     "text": [
      "1906-11-11 00:00:00\n",
      "2014-05-08 18:45:00\n"
     ]
    }
   ],
   "source": [
    "print(data['datetime'].min())\n",
    "print(data['datetime'].max())"
   ]
  },
  {
   "cell_type": "code",
   "execution_count": 20,
   "metadata": {},
   "outputs": [
    {
     "data": {
      "text/plain": [
       "datetime                datetime64[ns]\n",
       "city                            object\n",
       "state                           object\n",
       "country                         object\n",
       "shape                           object\n",
       "duration (seconds)             float64\n",
       "duration (hours/min)            object\n",
       "comments                        object\n",
       "date posted                     object\n",
       "latitude                       float64\n",
       "longitude                      float64\n",
       "Unnamed: 11                     object\n",
       "Unnamed: 12                    float64\n",
       "Unnamed: 13                    float64\n",
       "date                            object\n",
       "dtype: object"
      ]
     },
     "execution_count": 20,
     "metadata": {},
     "output_type": "execute_result"
    }
   ],
   "source": [
    "#split in date and time:\n",
    "data['date'] = [d.date() for d in data['datetime']]\n",
    "\n",
    "#data['time'] = [d.time() for d in data['datetime']]\n",
    "data.dtypes"
   ]
  },
  {
   "cell_type": "code",
   "execution_count": null,
   "metadata": {},
   "outputs": [],
   "source": [
    "data['country'].unique()"
   ]
  },
  {
   "cell_type": "code",
   "execution_count": null,
   "metadata": {},
   "outputs": [],
   "source": [
    "data.isnull().sum()\n",
    "#hay que eliminar las columnas: Unnamed: 11 (88197), Unnamed: 12 (88836), Unnamed: 13 (88873)"
   ]
  },
  {
   "cell_type": "code",
   "execution_count": null,
   "metadata": {},
   "outputs": [],
   "source": [
    "data.drop(['Unnamed: 11', 'Unnamed: 12', 'Unnamed: 13','duration (hours/min)'], axis=1)"
   ]
  },
  {
   "cell_type": "code",
   "execution_count": null,
   "metadata": {},
   "outputs": [],
   "source": []
  },
  {
   "cell_type": "code",
   "execution_count": null,
   "metadata": {},
   "outputs": [],
   "source": []
  }
 ],
 "metadata": {
  "kernelspec": {
   "display_name": "Python 3",
   "language": "python",
   "name": "python3"
  },
  "language_info": {
   "codemirror_mode": {
    "name": "ipython",
    "version": 3
   },
   "file_extension": ".py",
   "mimetype": "text/x-python",
   "name": "python",
   "nbconvert_exporter": "python",
   "pygments_lexer": "ipython3",
   "version": "3.6.7"
  }
 },
 "nbformat": 4,
 "nbformat_minor": 2
}
