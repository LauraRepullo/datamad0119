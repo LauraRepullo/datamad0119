{
 "cells": [
  {
   "cell_type": "markdown",
   "metadata": {},
   "source": [
    "Origen de datos:https://www.kaggle.com/NUFORC/ufo-sightings#complete.csv\n",
    "\n",
    "Context\n",
    "This dataset contains over 80,000 reports of UFO sightings over the last century.\n",
    "\n",
    "Content\n",
    "There are two versions of this dataset: scrubbed and complete. The complete data includes entries where the location of the sighting was not found or blank (0.8146%) or have an erroneous or blank time (8.0237%). Since the reports date back to the 20th century, some older data might be obscured. Data contains city, state, time, description, and duration of each sighting.\n",
    "\n",
    "Inspiration\n",
    "What areas of the country are most likely to have UFO sightings?\n",
    "Are there any trends in UFO sightings over time? Do they tend to be clustered or seasonal?\n",
    "Do clusters of UFO sightings correlate with landmarks, such as airports or government research centers?\n",
    "What are the most common UFO descriptions?\n",
    "Acknowledgement\n",
    "This dataset was scraped, geolocated, and time standardized from NUFORC data by Sigmond Axel here."
   ]
  },
  {
   "cell_type": "code",
   "execution_count": 1,
   "metadata": {},
   "outputs": [
    {
     "name": "stderr",
     "output_type": "stream",
     "text": [
      "/home/laura/.local/lib/python3.6/site-packages/IPython/core/interactiveshell.py:3044: DtypeWarning: Columns (11) have mixed types. Specify dtype option on import or set low_memory=False.\n",
      "  interactivity=interactivity, compiler=compiler, result=result)\n"
     ]
    }
   ],
   "source": [
    "import pandas as pd\n",
    "import time\n",
    "from datetime import date\n",
    "\n",
    "data = pd.read_csv('./UFO.csv')"
   ]
  },
  {
   "cell_type": "code",
   "execution_count": 2,
   "metadata": {},
   "outputs": [
    {
     "data": {
      "text/plain": [
       "(88875, 14)"
      ]
     },
     "execution_count": 2,
     "metadata": {},
     "output_type": "execute_result"
    }
   ],
   "source": [
    "data.shape"
   ]
  },
  {
   "cell_type": "code",
   "execution_count": 3,
   "metadata": {},
   "outputs": [
    {
     "data": {
      "text/plain": [
       "Index(['datetime', 'city', 'state', 'country', 'shape', 'duration (seconds)',\n",
       "       'duration (hours/min)', 'comments', 'date posted', 'latitude',\n",
       "       'longitude', 'Unnamed: 11', 'Unnamed: 12', 'Unnamed: 13'],\n",
       "      dtype='object')"
      ]
     },
     "execution_count": 3,
     "metadata": {},
     "output_type": "execute_result"
    }
   ],
   "source": [
    "data.columns"
   ]
  },
  {
   "cell_type": "code",
   "execution_count": 4,
   "metadata": {},
   "outputs": [
    {
     "data": {
      "text/html": [
       "<div>\n",
       "<style scoped>\n",
       "    .dataframe tbody tr th:only-of-type {\n",
       "        vertical-align: middle;\n",
       "    }\n",
       "\n",
       "    .dataframe tbody tr th {\n",
       "        vertical-align: top;\n",
       "    }\n",
       "\n",
       "    .dataframe thead th {\n",
       "        text-align: right;\n",
       "    }\n",
       "</style>\n",
       "<table border=\"1\" class=\"dataframe\">\n",
       "  <thead>\n",
       "    <tr style=\"text-align: right;\">\n",
       "      <th></th>\n",
       "      <th>datetime</th>\n",
       "      <th>city</th>\n",
       "      <th>state</th>\n",
       "      <th>country</th>\n",
       "      <th>shape</th>\n",
       "      <th>duration (seconds)</th>\n",
       "      <th>duration (hours/min)</th>\n",
       "      <th>comments</th>\n",
       "      <th>date posted</th>\n",
       "      <th>latitude</th>\n",
       "      <th>longitude</th>\n",
       "      <th>Unnamed: 11</th>\n",
       "      <th>Unnamed: 12</th>\n",
       "      <th>Unnamed: 13</th>\n",
       "    </tr>\n",
       "  </thead>\n",
       "  <tbody>\n",
       "    <tr>\n",
       "      <th>0</th>\n",
       "      <td>10/10/1949 20:30</td>\n",
       "      <td>san marcos</td>\n",
       "      <td>tx</td>\n",
       "      <td>us</td>\n",
       "      <td>cylinder</td>\n",
       "      <td>2700</td>\n",
       "      <td>45 minutes</td>\n",
       "      <td>This event took place in early fall around 194...</td>\n",
       "      <td>4/27/2004</td>\n",
       "      <td>29.8830556</td>\n",
       "      <td>-97.9411111</td>\n",
       "      <td>NaN</td>\n",
       "      <td>NaN</td>\n",
       "      <td>NaN</td>\n",
       "    </tr>\n",
       "    <tr>\n",
       "      <th>1</th>\n",
       "      <td>10/10/1949 21:00</td>\n",
       "      <td>lackland afb</td>\n",
       "      <td>tx</td>\n",
       "      <td>NaN</td>\n",
       "      <td>light</td>\n",
       "      <td>7200</td>\n",
       "      <td>1-2 hrs</td>\n",
       "      <td>1949 Lackland AFB&amp;#44 TX.  Lights racing acros...</td>\n",
       "      <td>12/16/2005</td>\n",
       "      <td>29.38421</td>\n",
       "      <td>-98.581082</td>\n",
       "      <td>NaN</td>\n",
       "      <td>NaN</td>\n",
       "      <td>NaN</td>\n",
       "    </tr>\n",
       "    <tr>\n",
       "      <th>2</th>\n",
       "      <td>10/10/1955 17:00</td>\n",
       "      <td>chester (uk/england)</td>\n",
       "      <td>NaN</td>\n",
       "      <td>gb</td>\n",
       "      <td>circle</td>\n",
       "      <td>20</td>\n",
       "      <td>20 seconds</td>\n",
       "      <td>Green/Orange circular disc over Chester&amp;#44 En...</td>\n",
       "      <td>1/21/2008</td>\n",
       "      <td>53.2</td>\n",
       "      <td>-2.916667</td>\n",
       "      <td>NaN</td>\n",
       "      <td>NaN</td>\n",
       "      <td>NaN</td>\n",
       "    </tr>\n",
       "    <tr>\n",
       "      <th>3</th>\n",
       "      <td>10/10/1956 21:00</td>\n",
       "      <td>edna</td>\n",
       "      <td>tx</td>\n",
       "      <td>us</td>\n",
       "      <td>circle</td>\n",
       "      <td>20</td>\n",
       "      <td>1/2 hour</td>\n",
       "      <td>My older brother and twin sister were leaving ...</td>\n",
       "      <td>1/17/2004</td>\n",
       "      <td>28.9783333</td>\n",
       "      <td>-96.6458333</td>\n",
       "      <td>NaN</td>\n",
       "      <td>NaN</td>\n",
       "      <td>NaN</td>\n",
       "    </tr>\n",
       "    <tr>\n",
       "      <th>4</th>\n",
       "      <td>10/10/1960 20:00</td>\n",
       "      <td>kaneohe</td>\n",
       "      <td>hi</td>\n",
       "      <td>us</td>\n",
       "      <td>light</td>\n",
       "      <td>900</td>\n",
       "      <td>15 minutes</td>\n",
       "      <td>AS a Marine 1st Lt. flying an FJ4B fighter/att...</td>\n",
       "      <td>1/22/2004</td>\n",
       "      <td>21.4180556</td>\n",
       "      <td>-157.8036111</td>\n",
       "      <td>NaN</td>\n",
       "      <td>NaN</td>\n",
       "      <td>NaN</td>\n",
       "    </tr>\n",
       "  </tbody>\n",
       "</table>\n",
       "</div>"
      ],
      "text/plain": [
       "           datetime                  city state country     shape  \\\n",
       "0  10/10/1949 20:30            san marcos    tx      us  cylinder   \n",
       "1  10/10/1949 21:00          lackland afb    tx     NaN     light   \n",
       "2  10/10/1955 17:00  chester (uk/england)   NaN      gb    circle   \n",
       "3  10/10/1956 21:00                  edna    tx      us    circle   \n",
       "4  10/10/1960 20:00               kaneohe    hi      us     light   \n",
       "\n",
       "  duration (seconds) duration (hours/min)  \\\n",
       "0               2700           45 minutes   \n",
       "1               7200              1-2 hrs   \n",
       "2                 20           20 seconds   \n",
       "3                 20             1/2 hour   \n",
       "4                900           15 minutes   \n",
       "\n",
       "                                            comments date posted    latitude  \\\n",
       "0  This event took place in early fall around 194...   4/27/2004  29.8830556   \n",
       "1  1949 Lackland AFB&#44 TX.  Lights racing acros...  12/16/2005    29.38421   \n",
       "2  Green/Orange circular disc over Chester&#44 En...   1/21/2008        53.2   \n",
       "3  My older brother and twin sister were leaving ...   1/17/2004  28.9783333   \n",
       "4  AS a Marine 1st Lt. flying an FJ4B fighter/att...   1/22/2004  21.4180556   \n",
       "\n",
       "      longitude Unnamed: 11  Unnamed: 12  Unnamed: 13  \n",
       "0   -97.9411111         NaN          NaN          NaN  \n",
       "1    -98.581082         NaN          NaN          NaN  \n",
       "2     -2.916667         NaN          NaN          NaN  \n",
       "3   -96.6458333         NaN          NaN          NaN  \n",
       "4  -157.8036111         NaN          NaN          NaN  "
      ]
     },
     "execution_count": 4,
     "metadata": {},
     "output_type": "execute_result"
    }
   ],
   "source": [
    "data.head()"
   ]
  },
  {
   "cell_type": "code",
   "execution_count": 19,
   "metadata": {},
   "outputs": [
    {
     "data": {
      "text/plain": [
       "count    8.847200e+04\n",
       "mean     8.407590e+03\n",
       "std      5.918311e+05\n",
       "min      0.000000e+00\n",
       "25%      1.500000e+01\n",
       "50%      1.200000e+02\n",
       "75%      6.000000e+02\n",
       "max      9.783600e+07\n",
       "Name: duration (seconds), dtype: float64"
      ]
     },
     "execution_count": 19,
     "metadata": {},
     "output_type": "execute_result"
    }
   ],
   "source": [
    "data['duration (seconds)'].describe()"
   ]
  },
  {
   "cell_type": "code",
   "execution_count": 6,
   "metadata": {},
   "outputs": [
    {
     "data": {
      "text/plain": [
       "datetime                 object\n",
       "city                     object\n",
       "state                    object\n",
       "country                  object\n",
       "shape                    object\n",
       "duration (seconds)       object\n",
       "duration (hours/min)     object\n",
       "comments                 object\n",
       "date posted              object\n",
       "latitude                 object\n",
       "longitude                object\n",
       "Unnamed: 11              object\n",
       "Unnamed: 12             float64\n",
       "Unnamed: 13             float64\n",
       "dtype: object"
      ]
     },
     "execution_count": 6,
     "metadata": {},
     "output_type": "execute_result"
    }
   ],
   "source": [
    "data.dtypes"
   ]
  },
  {
   "cell_type": "code",
   "execution_count": 7,
   "metadata": {
    "scrolled": true
   },
   "outputs": [
    {
     "data": {
      "text/plain": [
       "datetime                datetime64[ns]\n",
       "city                            object\n",
       "state                           object\n",
       "country                         object\n",
       "shape                           object\n",
       "duration (seconds)             float64\n",
       "duration (hours/min)            object\n",
       "comments                        object\n",
       "date posted                     object\n",
       "latitude                       float64\n",
       "longitude                      float64\n",
       "Unnamed: 11                     object\n",
       "Unnamed: 12                    float64\n",
       "Unnamed: 13                    float64\n",
       "dtype: object"
      ]
     },
     "execution_count": 7,
     "metadata": {},
     "output_type": "execute_result"
    }
   ],
   "source": [
    "data['datetime'] = pd.to_datetime(data['datetime'], errors='coerce') #datetime to datetime\n",
    "data['duration (seconds)'] = pd.to_numeric(data['duration (seconds)'], errors='coerce') #duration (seconds) to float\n",
    "data['latitude'] = pd.to_numeric(data['latitude'], errors='coerce') #latitud to float\n",
    "data['longitude'] = pd.to_numeric(data['longitude'], errors='coerce') #longitude to float\n",
    "data.dtypes"
   ]
  },
  {
   "cell_type": "code",
   "execution_count": 8,
   "metadata": {},
   "outputs": [
    {
     "data": {
      "text/plain": [
       "0        2700.0\n",
       "1        7200.0\n",
       "2          20.0\n",
       "3          20.0\n",
       "4         900.0\n",
       "5         300.0\n",
       "6         180.0\n",
       "7        1200.0\n",
       "8         180.0\n",
       "9         120.0\n",
       "10        300.0\n",
       "11        180.0\n",
       "12       1800.0\n",
       "13        180.0\n",
       "14         30.0\n",
       "15       1200.0\n",
       "16        120.0\n",
       "17       1800.0\n",
       "18         20.0\n",
       "19        120.0\n",
       "20       2700.0\n",
       "21       1200.0\n",
       "22       1200.0\n",
       "23        360.0\n",
       "24         60.0\n",
       "25          3.0\n",
       "26         30.0\n",
       "27         30.0\n",
       "28        300.0\n",
       "29        900.0\n",
       "          ...  \n",
       "88845    1290.0\n",
       "88846      60.0\n",
       "88847     300.0\n",
       "88848     900.0\n",
       "88849       5.0\n",
       "88850       1.0\n",
       "88851       NaN\n",
       "88852     120.0\n",
       "88853       4.0\n",
       "88854       0.0\n",
       "88855       0.0\n",
       "88856       8.0\n",
       "88857      90.0\n",
       "88858       0.0\n",
       "88859    3600.0\n",
       "88860      60.0\n",
       "88861       3.0\n",
       "88862      15.0\n",
       "88863      60.0\n",
       "88864     120.0\n",
       "88865     180.0\n",
       "88866      20.0\n",
       "88867     600.0\n",
       "88868    1200.0\n",
       "88869       0.0\n",
       "88870    1200.0\n",
       "88871       5.0\n",
       "88872    1020.0\n",
       "88873       0.0\n",
       "88874       0.0\n",
       "Name: duration (seconds), Length: 88875, dtype: float64"
      ]
     },
     "execution_count": 8,
     "metadata": {},
     "output_type": "execute_result"
    }
   ],
   "source": [
    "data['duration (seconds)']"
   ]
  },
  {
   "cell_type": "code",
   "execution_count": 9,
   "metadata": {},
   "outputs": [
    {
     "data": {
      "text/plain": [
       "0                      173\n",
       "0.0                     56\n",
       "-74.0063889             10\n",
       "-111.093731              6\n",
       "-91.831833               4\n",
       "-46.633309               4\n",
       "-122.3308333             4\n",
       "-115.1363889             3\n",
       "60.631811                3\n",
       "-105.87008999999999      3\n",
       "-84.3880556              2\n",
       "-120.554201              2\n",
       "-99.901813               2\n",
       "-121.49333329999999      2\n",
       "13.193401000000001       2\n",
       "-76.6125000              2\n",
       "-74.0063889              2\n",
       "-117.425                 2\n",
       "10.407561                2\n",
       "-112.0733333             2\n",
       "-122.0597222             2\n",
       "-95.3630556              2\n",
       "-89.398528               2\n",
       "-78.656894               2\n",
       "1.297355                 2\n",
       "-62.88333299999999       2\n",
       "-89.398528               2\n",
       "0.257776                 1\n",
       "-84.8491667              1\n",
       "-49.383557               1\n",
       "                      ... \n",
       "-86.4541667              1\n",
       "-123.13350200000001      1\n",
       "82.973914                1\n",
       "-116.9333333             1\n",
       "-120.8650000             1\n",
       "-105.2077778             1\n",
       "-97.40586                1\n",
       "-109.2461111             1\n",
       "-120.783333              1\n",
       "-0.7775529999999999      1\n",
       "-79.811476               1\n",
       "-121.232443              1\n",
       "-75.7500000              1\n",
       "135.101171               1\n",
       "-71.448352               1\n",
       "122.541582               1\n",
       "-97.0036111              1\n",
       "-117.646792              1\n",
       "-105.782067              1\n",
       "4.4723120000000005       1\n",
       "50.266667                1\n",
       "-86.3000000              1\n",
       "-83.993889               1\n",
       "-109.3330556             1\n",
       "12.300806                1\n",
       "4.895168                 1\n",
       "151.205475               1\n",
       "-89.7808333              1\n",
       "-73.0686111              1\n",
       "-74.137183               1\n",
       "Name: Unnamed: 11, Length: 405, dtype: int64"
      ]
     },
     "execution_count": 9,
     "metadata": {},
     "output_type": "execute_result"
    }
   ],
   "source": [
    "data['Unnamed: 11'].value_counts()"
   ]
  },
  {
   "cell_type": "code",
   "execution_count": 10,
   "metadata": {},
   "outputs": [
    {
     "data": {
      "text/plain": [
       " 0.000000        6\n",
       " 24.857883       4\n",
       "-46.633309       1\n",
       "-28.673147       1\n",
       "-93.019722       1\n",
       " 1.602034        1\n",
       "-40.295777       1\n",
       " 5.113554        1\n",
       "-77.008889       1\n",
       " 47.481766       1\n",
       "-103.666667      1\n",
       " 4.477793        1\n",
       "-96.050000       1\n",
       "-108.188584      1\n",
       "-71267.000000    1\n",
       "-121.271389      1\n",
       "-116.419389      1\n",
       " 17.637930       1\n",
       " 14.082748       1\n",
       "-86.286111       1\n",
       " 2.213749        1\n",
       "-64.095813       1\n",
       "-122.742778      1\n",
       "-87.791711       1\n",
       "-111.248301      1\n",
       " 66.075833       1\n",
       "-121.424167      1\n",
       "-73.245833       1\n",
       " 17.940871       1\n",
       " 14.696725       1\n",
       " 14.801027       1\n",
       "Name: Unnamed: 12, dtype: int64"
      ]
     },
     "execution_count": 10,
     "metadata": {},
     "output_type": "execute_result"
    }
   ],
   "source": [
    "data['Unnamed: 12'].value_counts()"
   ]
  },
  {
   "cell_type": "code",
   "execution_count": 11,
   "metadata": {},
   "outputs": [
    {
     "data": {
      "text/plain": [
       "-23.126667    1\n",
       " 0.000000     1\n",
       "Name: Unnamed: 13, dtype: int64"
      ]
     },
     "execution_count": 11,
     "metadata": {},
     "output_type": "execute_result"
    }
   ],
   "source": [
    "data['Unnamed: 13'].value_counts()"
   ]
  },
  {
   "cell_type": "code",
   "execution_count": 12,
   "metadata": {},
   "outputs": [
    {
     "name": "stdout",
     "output_type": "stream",
     "text": [
      "1906-11-11 00:00:00\n",
      "2014-05-08 18:45:00\n"
     ]
    }
   ],
   "source": [
    "print(data['datetime'].min())\n",
    "print(data['datetime'].max())"
   ]
  },
  {
   "cell_type": "code",
   "execution_count": 20,
   "metadata": {},
   "outputs": [
    {
     "data": {
      "text/plain": [
       "0        1949-10-10\n",
       "1        1949-10-10\n",
       "2        1955-10-10\n",
       "3        1956-10-10\n",
       "4        1960-10-10\n",
       "5        1961-10-10\n",
       "6        1965-10-10\n",
       "7        1965-10-10\n",
       "8        1966-10-10\n",
       "9        1966-10-10\n",
       "10       1968-10-10\n",
       "11       1968-10-10\n",
       "12       1970-10-10\n",
       "13       1970-10-10\n",
       "14       1971-10-10\n",
       "15       1972-10-10\n",
       "16       1972-10-10\n",
       "17       1973-10-10\n",
       "18       1973-10-10\n",
       "19       1974-10-10\n",
       "20       1974-10-10\n",
       "21       1974-10-10\n",
       "22       1974-10-10\n",
       "23       1975-10-10\n",
       "24       1976-10-10\n",
       "25       1976-10-10\n",
       "26       1977-10-10\n",
       "27       1977-10-10\n",
       "28       1978-10-10\n",
       "29       1979-10-10\n",
       "            ...    \n",
       "88845    2012-09-09\n",
       "88846    2012-09-09\n",
       "88847    2012-09-09\n",
       "88848    2012-09-09\n",
       "88849    2012-09-09\n",
       "88850    2013-09-09\n",
       "88851    2013-09-09\n",
       "88852    2013-09-09\n",
       "88853    2013-09-09\n",
       "88854    2013-09-09\n",
       "88855    2013-09-09\n",
       "88856    2013-09-09\n",
       "88857    2013-09-09\n",
       "88858    2013-09-09\n",
       "88859    2013-09-09\n",
       "88860    2013-09-09\n",
       "88861    2013-09-09\n",
       "88862    2013-09-09\n",
       "88863    2013-09-09\n",
       "88864    2013-09-09\n",
       "88865    2013-09-09\n",
       "88866    2013-09-09\n",
       "88867    2013-09-09\n",
       "88868    2013-09-09\n",
       "88869    2013-09-09\n",
       "88870    2013-09-09\n",
       "88871    2013-09-09\n",
       "88872    2013-09-09\n",
       "88873    2013-09-09\n",
       "88874    2013-09-09\n",
       "Name: date, Length: 88875, dtype: object"
      ]
     },
     "execution_count": 20,
     "metadata": {},
     "output_type": "execute_result"
    }
   ],
   "source": [
    "#split in date and time:\n",
    "data['date'] = [d.date() for d in data['datetime']]\n",
    "\n",
    "#data['time'] = [d.time() for d in data['datetime']]\n",
    "data.date"
   ]
  },
  {
   "cell_type": "code",
   "execution_count": 14,
   "metadata": {},
   "outputs": [
    {
     "data": {
      "text/plain": [
       "array(['us', nan, 'gb', 'ca', 'au', 'nv', 'ms', 'tx', 'qc', 'r&eth', 'co',\n",
       "       'de', 'mo', 'fl', 'on', 'il', ' w)', ' (catalunya) (spain)', 'ne',\n",
       "       'wv', ' (finland)', 'ny', 'or', 'vt', 'mb', 'wa', 'tn', 'ga', 'wi',\n",
       "       ' 90 e on highway)', ' ??) (canada)', 'az', 'nh', ' 37000 ft.)',\n",
       "       'ks', 'al', 'va', 'ok', 'nj', 'bec)', 'md', 'nc',\n",
       "       ' we were traveling)', ' pod ralskem (czech republic)',\n",
       "       'n (sweden)', 'ri', 'pa', ' (sweden)', 'nm', 'wek (poland)', 'ct',\n",
       "       'sc', 'y (norway)', 'ar', 'pq', 'ab', 'mt', 'hi', 'ut',\n",
       "       'sand (sweden)', 'in', 'mi', 'a (argentina)', ' on cruise ship)',\n",
       "       ')', 'nd', 'e)', 'id', 'ma', 'ky', ' enroute)',\n",
       "       'rito santo state) (brazil)', 'bc', 'wy', '&#8218', 'ia', 'la',\n",
       "       'ak', ' 56)', 'dc', ' close to gilroy)', 'ns',\n",
       "       ' cerro prieto.&#44 b. c.', 'ndelag (norway)', 'me'], dtype=object)"
      ]
     },
     "execution_count": 14,
     "metadata": {},
     "output_type": "execute_result"
    }
   ],
   "source": [
    "data['country'].unique()"
   ]
  },
  {
   "cell_type": "code",
   "execution_count": 15,
   "metadata": {},
   "outputs": [
    {
     "data": {
      "text/plain": [
       "datetime                 1262\n",
       "city                      196\n",
       "state                    7396\n",
       "country                 12401\n",
       "shape                    3358\n",
       "duration (seconds)        403\n",
       "duration (hours/min)     3090\n",
       "comments                  154\n",
       "date posted                 3\n",
       "latitude                  679\n",
       "longitude                  39\n",
       "Unnamed: 11             88197\n",
       "Unnamed: 12             88836\n",
       "Unnamed: 13             88873\n",
       "date                     1262\n",
       "dtype: int64"
      ]
     },
     "execution_count": 15,
     "metadata": {},
     "output_type": "execute_result"
    }
   ],
   "source": [
    "data.isnull().sum()\n",
    "#hay que eliminar las columnas: Unnamed: 11 (88197), Unnamed: 12 (88836), Unnamed: 13 (88873)"
   ]
  },
  {
   "cell_type": "code",
   "execution_count": 24,
   "metadata": {},
   "outputs": [],
   "source": [
    "data1 = data.drop(['Unnamed: 11', 'Unnamed: 12', 'Unnamed: 13','duration (hours/min)'], axis=1)"
   ]
  },
  {
   "cell_type": "code",
   "execution_count": 25,
   "metadata": {},
   "outputs": [],
   "source": [
    "data1.to_csv(\"UFO_modify1.csv\")"
   ]
  },
  {
   "cell_type": "code",
   "execution_count": null,
   "metadata": {},
   "outputs": [],
   "source": []
  }
 ],
 "metadata": {
  "kernelspec": {
   "display_name": "Python 3",
   "language": "python",
   "name": "python3"
  },
  "language_info": {
   "codemirror_mode": {
    "name": "ipython",
    "version": 3
   },
   "file_extension": ".py",
   "mimetype": "text/x-python",
   "name": "python",
   "nbconvert_exporter": "python",
   "pygments_lexer": "ipython3",
   "version": "3.6.7"
  }
 },
 "nbformat": 4,
 "nbformat_minor": 2
}
