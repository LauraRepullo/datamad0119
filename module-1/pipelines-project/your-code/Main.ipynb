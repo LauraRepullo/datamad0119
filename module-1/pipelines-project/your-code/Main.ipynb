{
 "cells": [
  {
   "cell_type": "code",
   "execution_count": 31,
   "metadata": {},
   "outputs": [
    {
     "data": {
      "image/png": "[encoded data removed]",
      "text/plain": [
       "<Figure size 432x288 with 1 Axes>"
      ]
     },
     "metadata": {
      "needs_background": "light"
     },
     "output_type": "display_data"
    },
    {
     "data": {
      "image/png": "[encoded data removed]",
      "text/plain": [
       "<Figure size 432x288 with 1 Axes>"
      ]
     },
     "metadata": {
      "needs_background": "light"
     },
     "output_type": "display_data"
    },
    {
     "name": "stdout",
     "output_type": "stream",
     "text": [
      "hecho\n"
     ]
    }
   ],
   "source": [
    "import pandas as pd\n",
    "import matplotlib.pyplot as plt\n",
    "import seaborn as sns\n",
    "import numpy as np\n",
    "import subprocess\n",
    "\n",
    "#year = int(input('Enter the year: '))\n",
    "#title = 'Top 10 Manufacturers by Fuel Efficiency ' + str(year)\n",
    "\n",
    "title = 'Análisis sobre la tasa de suicidios mundial en el período 1985 - 2016'\n",
    "\n",
    "#def acquire():\n",
    " #   data = pd.read_csv('./data sets/vehicles/vehicles.csv')\n",
    " #  return data\n",
    "\n",
    "def acquire():\n",
    "    data = pd.read_csv(\"suicide-rates-overview-1985-to-2016.csv\")\n",
    "    return data\n",
    "\n",
    "#def wrangle(df):\n",
    " #   filtered = data[data['Year']==year]\n",
    "  #  return filtered\n",
    "\n",
    "def wrangle(data):\n",
    "    \n",
    "    data_no_dupl= data.drop_duplicates()\n",
    "    data_clean=data_no_dupl.drop(['HDI for year','country-year'], axis=1)\n",
    "    return data_clean\n",
    "    \n",
    "\n",
    "#def analyze(df):\n",
    " #   grouped = filtered.groupby('Make').agg({'Combined MPG':'mean'}).reset_index()\n",
    "  #  results = grouped.sort_values('Combined MPG', ascending=False).head(10)\n",
    "# return results\n",
    "\n",
    "def analyze(data_clean):\n",
    "\n",
    "    data_selected= data_clean[['country', 'suicides_no','population']]\n",
    "    data_selected_grouped= data_selected.groupby(['country']).sum()\n",
    "    data_selected_grouped['population(mean)'] = data_selected_grouped['population']/31\n",
    "    data_selected_grouped['suicides_no/100k pop']= data_selected_grouped['suicides_no']/data_selected_grouped['population(mean)']*100000\n",
    "    suicides_per_country_ord=data_selected_grouped.sort_values(by=['suicides_no/100k pop'], ascending=False)\n",
    "    return suicides_per_country_ord\n",
    "    \n",
    "\n",
    "#def visualize(df):\n",
    " #   fig, ax = plt.subplots(figsize=(15,8))\n",
    "  #  barchart = sns.barplot(data=results, x='Make', y='Combined MPG')\n",
    "   # plt.title(title + \"\\n\", fontsize=16)\n",
    "    #return barchart\n",
    "    \n",
    "def visualize(suicides_per_country_ord):\n",
    "    height = [41.18,32.77,30.48,30.34,29.71 ]\n",
    "    bars = ('Lithuania', 'Russian Federation','Sri Lanka','Belarus','Hungary')\n",
    "    y_pos = np.arange(len(bars))\n",
    "    plt.bar(y_pos, height)\n",
    "    plt.xticks(y_pos, bars)\n",
    "    return plt.show()\n",
    "\n",
    "def report_to(email):\n",
    "    text = 'El informe actualizado ha sido enviado'\n",
    "    command = 'echo {} | mail -s \"Nuevo informe\" {}'.format(text, email)\n",
    "    subprocess.Popen(command, shell=True)\n",
    "    return (\"hecho\")\n",
    "\n",
    "#def save_viz(barchart):\n",
    " #   fig = barchart.get_figure()\n",
    "  #  fig.savefig(title + '.png')\n",
    "\n",
    "#def save_viz(plt):\n",
    "   # fig = plt.get_figure()\n",
    "    #fig.savefig('Paises con tasa se suicidios mas alta 1985 - 2016' + '.png')\n",
    "\n",
    "if __name__ == '__main__':\n",
    "    data = acquire()\n",
    "    filtered = wrangle(data)\n",
    "    results = analyze(filtered)\n",
    "    barchart = visualize(results)\n",
    "\n",
    "    #save_viz(plt)\n",
    "\n",
    "df = acquire()\n",
    "df.head()\n",
    "\n",
    "df1= wrangle(df)\n",
    "df1.head()\n",
    "\n",
    "df2= analyze(df1)\n",
    "df2.head()\n",
    "\n",
    "df3=visualize(df2)\n",
    "df3\n",
    "\n",
    "email = 'laura.repullo.chacon@gmail.com'\n",
    "a = report_to(email)\n",
    "print(a)"
   ]
  },
  {
   "cell_type": "code",
   "execution_count": null,
   "metadata": {},
   "outputs": [],
   "source": []
  }
 ],
 "metadata": {
  "kernelspec": {
   "display_name": "Python 3",
   "language": "python",
   "name": "python3"
  },
  "language_info": {
   "codemirror_mode": {
    "name": "ipython",
    "version": 3
   },
   "file_extension": ".py",
   "mimetype": "text/x-python",
   "name": "python",
   "nbconvert_exporter": "python",
   "pygments_lexer": "ipython3",
   "version": "3.6.7"
  }
 },
 "nbformat": 4,
 "nbformat_minor": 2
}
