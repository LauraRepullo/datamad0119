{
 "cells": [
  {
   "cell_type": "markdown",
   "metadata": {},
   "source": [
    "# Análisis sobre la tasa de suicidios mundial entre 1985 y 2016\n",
    "\n",
    "https://www.kaggle.com/russellyates88/suicide-rates-overview-1985-to-2016\n",
    "\n",
    "\n",
    "Hemos realizado el siguiente análisis basandonos en los datos obtenidos en:\n",
    "https://www.kaggle.com/russellyates88/suicide-rates-overview-1985-to-2016\n",
    "\n",
    "Los datos incluidos en la base de datos, son:\n",
    "\n",
    "- country, \n",
    "- year, \n",
    "- sex, \n",
    "- age group, \n",
    "- count of suicides, \n",
    "- population, \n",
    "- suicide rate, \n",
    "- country-year composite key, \n",
    "- HDI for year, \n",
    "- gdp_for_year, \n",
    "- gdp_per_capita, \n",
    "- generation (based on age grouping average)\n",
    "\n",
    "Importamos la Dataset:"
   ]
  },
  {
   "cell_type": "code",
   "execution_count": null,
   "metadata": {},
   "outputs": [],
   "source": [
    "import pandas as pd\n",
    "\n",
    "data = pd.read_csv(\"suicide-rates-overview-1985-to-2016.csv\")"
   ]
  },
  {
   "cell_type": "code",
   "execution_count": null,
   "metadata": {},
   "outputs": [],
   "source": []
  }
 ],
 "metadata": {
  "kernelspec": {
   "display_name": "Python 3",
   "language": "python",
   "name": "python3"
  },
  "language_info": {
   "codemirror_mode": {
    "name": "ipython",
    "version": 3
   },
   "file_extension": ".py",
   "mimetype": "text/x-python",
   "name": "python",
   "nbconvert_exporter": "python",
   "pygments_lexer": "ipython3",
   "version": "3.6.7"
  }
 },
 "nbformat": 4,
 "nbformat_minor": 2
}
