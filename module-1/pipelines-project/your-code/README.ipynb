{
 "cells": [
  {
   "cell_type": "markdown",
   "metadata": {},
   "source": [
    "# Análisis sobre la tasa de suicidios mundial entre 1985 y 2016\n",
    "\n",
    "https://www.kaggle.com/russellyates88/suicide-rates-overview-1985-to-2016\n",
    "\n",
    "\n",
    "Hemos realizado el siguiente análisis basandonos en los datos obtenidos en:\n",
    "https://www.kaggle.com/russellyates88/suicide-rates-overview-1985-to-2016\n",
    "\n",
    "Los datos incluidos en la base de datos, son:\n",
    "\n",
    "- country, \n",
    "- year, \n",
    "- sex, \n",
    "- age group, \n",
    "- count of suicides, \n",
    "- population, \n",
    "- suicide rate, \n",
    "- country-year composite key, \n",
    "- HDI for year, \n",
    "- gdp_for_year, \n",
    "- gdp_per_capita, \n",
    "- generation (based on age grouping average)\n",
    "\n",
    "### 1. Adquisición de Datos:\n",
    "\n",
    "Importamos la Dataset, y las librerias que utilizaremos:"
   ]
  },
  {
   "cell_type": "code",
   "execution_count": 1,
   "metadata": {},
   "outputs": [],
   "source": [
    "import pandas as pd\n",
    "import matplotlib.pyplot as plt\n",
    "import seaborn as sns\n",
    "import numpy as np\n",
    "\n",
    "data = pd.read_csv(\"suicide-rates-overview-1985-to-2016.csv\")"
   ]
  },
  {
   "cell_type": "markdown",
   "metadata": {},
   "source": [
    "### 2. Limpieza de Datos:\n",
    "\n",
    "Es una base bastante limpia, pero aún asi procedemos a la limpieza de la Dataset: empezamos buscando los duplicados:"
   ]
  },
  {
   "cell_type": "code",
   "execution_count": 2,
   "metadata": {},
   "outputs": [],
   "source": [
    "data_no_dupl = data.drop_duplicates()"
   ]
  },
  {
   "cell_type": "markdown",
   "metadata": {},
   "source": [
    "Seguimos con los registros nulos; la columna \"HDI for year\" tiene mas de 19000 registros nulos: asi que la eliminamos:"
   ]
  },
  {
   "cell_type": "code",
   "execution_count": 3,
   "metadata": {},
   "outputs": [
    {
     "data": {
      "text/plain": [
       "country                   0\n",
       "year                      0\n",
       "sex                       0\n",
       "age                       0\n",
       "suicides_no               0\n",
       "population                0\n",
       "suicides/100k pop         0\n",
       "country-year              0\n",
       "HDI for year          19456\n",
       " gdp_for_year ($)         0\n",
       "gdp_per_capita ($)        0\n",
       "generation                0\n",
       "dtype: int64"
      ]
     },
     "execution_count": 3,
     "metadata": {},
     "output_type": "execute_result"
    }
   ],
   "source": [
    "null_cols=data_no_dupl.isnull().sum()\n",
    "null_cols"
   ]
  },
  {
   "cell_type": "code",
   "execution_count": 4,
   "metadata": {},
   "outputs": [],
   "source": [
    "data_no_dupl1=data_no_dupl.drop(['HDI for year'], axis=1)"
   ]
  },
  {
   "cell_type": "markdown",
   "metadata": {},
   "source": [
    "Eliminamos la columna 'country-year' porque tenemos ya otras 2 columnas que nos facilitan esos datos:"
   ]
  },
  {
   "cell_type": "code",
   "execution_count": 5,
   "metadata": {},
   "outputs": [],
   "source": [
    "data_clean=data_no_dupl1.drop(['country-year'], axis=1)"
   ]
  },
  {
   "cell_type": "markdown",
   "metadata": {},
   "source": [
    "### 3. Análisis y visualización de Datos:\n",
    "\n",
    "Viendo los datos, me parece relevante calcular el porcentaje de suicidios en función del sexo:"
   ]
  },
  {
   "cell_type": "code",
   "execution_count": 6,
   "metadata": {},
   "outputs": [
    {
     "data": {
      "text/plain": [
       "sex\n",
       "female    23.109261\n",
       "male      76.890739\n",
       "Name: suicides_no, dtype: float64"
      ]
     },
     "execution_count": 6,
     "metadata": {},
     "output_type": "execute_result"
    }
   ],
   "source": [
    "suicides_per_sex= data_clean.groupby(['sex'])['suicides_no'].sum()/(1559510+5188910)*100\n",
    "suicides_per_sex"
   ]
  },
  {
   "cell_type": "markdown",
   "metadata": {},
   "source": [
    "Lo representamos en un grafico, donde claramente se ve la diferencia:"
   ]
  },
  {
   "cell_type": "code",
   "execution_count": 7,
   "metadata": {},
   "outputs": [
    {
     "data": {
      "image/png": "[encoded data removed]",
      "text/plain": [
       "<Figure size 432x288 with 1 Axes>"
      ]
     },
     "metadata": {},
     "output_type": "display_data"
    }
   ],
   "source": [
    "labels = 'Male', 'Female'\n",
    "sizes = [76.90, 23.10]\n",
    "explode = (0.1, 0)\n",
    "\n",
    "fig1, ax1 = plt.subplots()\n",
    "ax1.pie(sizes, explode=explode, labels=labels, autopct='%1.1f%%',\n",
    "        shadow=True, startangle=90, colors={'tab:blue', 'tab:pink'})\n",
    "ax1.axis('equal')\n",
    "\n",
    "plt.show()"
   ]
  },
  {
   "cell_type": "markdown",
   "metadata": {},
   "source": [
    "Tambien parece relevante ver la evolucion en el tiempo del nº suicidios por año (nº suicidios total de todos los paises estudiados):"
   ]
  },
  {
   "cell_type": "code",
   "execution_count": 8,
   "metadata": {},
   "outputs": [
    {
     "data": {
      "text/plain": [
       "[<matplotlib.lines.Line2D at 0x7f7078996908>]"
      ]
     },
     "execution_count": 8,
     "metadata": {},
     "output_type": "execute_result"
    },
    {
     "data": {
      "image/png": "[encoded data removed]",
      "text/plain": [
       "<Figure size 432x288 with 1 Axes>"
      ]
     },
     "metadata": {
      "needs_background": "light"
     },
     "output_type": "display_data"
    }
   ],
   "source": [
    "suicides_per_year= data_clean.groupby(['year'])['suicides_no'].sum()\n",
    "suicides_per_year\n",
    "plt.plot(suicides_per_year)"
   ]
  },
  {
   "cell_type": "markdown",
   "metadata": {},
   "source": [
    "Los datos de 2016 son especialmente bajos, por lo que podemos pensar que no son del año completo; aun asi, podemos ver que, afortunadamente, la tendencia del nº de suicidios a nivel mundial es a la baja, desde 2003 aproximadamente."
   ]
  },
  {
   "cell_type": "markdown",
   "metadata": {},
   "source": [
    "Para completar nuestro análisis, nos parece básico conocer que paises tienen la tasa de suicidio mas alta del mundo:"
   ]
  },
  {
   "cell_type": "code",
   "execution_count": 9,
   "metadata": {},
   "outputs": [
    {
     "data": {
      "text/plain": [
       "country\n",
       "Lithuania             41.182219\n",
       "Russian Federation    32.777207\n",
       "Sri Lanka             30.483939\n",
       "Belarus               30.344685\n",
       "Hungary               29.717558\n",
       "Name: suicides_no/100k pop, dtype: float64"
      ]
     },
     "execution_count": 9,
     "metadata": {},
     "output_type": "execute_result"
    }
   ],
   "source": [
    "#seleccionamos las columnas que nos interesan, y calculamos los totales por pais:\n",
    "data_selected= data_clean[['country', 'suicides_no','population']]\n",
    "data_selected_grouped= data_selected.groupby(['country']).sum()\n",
    "#tanto el total de poblacion, como del numero de suicidios, suma los 31 años que ocupa el estudio; para poder interpretar los datos, calculamos la media, y sobre esos datos, calculamos la tasa de suicidio:\n",
    "data_selected_grouped['population(mean)'] = data_selected_grouped['population']/31\n",
    "data_selected_grouped['suicides_no(mean)'] = data_selected_grouped['suicides_no']/31\n",
    "#incluyo una columna con la tasa media de suicidio de cada pais(/100k), de los años de 1985 a 2016:\n",
    "data_selected_grouped['suicides_no/100k pop']= data_selected_grouped['suicides_no(mean)']/data_selected_grouped['population(mean)']*100000\n",
    "#ordenamos los resultados en orden descendente:\n",
    "suicides_per_country_ord=data_selected_grouped.sort_values(by=['suicides_no/100k pop'], ascending=False)\n",
    "suicides_per_country_ord['suicides_no/100k pop'].head()"
   ]
  },
  {
   "cell_type": "markdown",
   "metadata": {},
   "source": [
    "Insertamos un gráfico con dichos paises y la tasa de suicidio media del periodo 1985 a 2016:"
   ]
  },
  {
   "cell_type": "code",
   "execution_count": 10,
   "metadata": {},
   "outputs": [
    {
     "data": {
      "image/png": "[encoded data removed]",
      "text/plain": [
       "<Figure size 432x288 with 1 Axes>"
      ]
     },
     "metadata": {
      "needs_background": "light"
     },
     "output_type": "display_data"
    }
   ],
   "source": [
    "height = [41.18,32.77,30.48,30.34,29.71 ]\n",
    "bars = ('Lithuania', 'Russian Federation','Sri Lanka','Belarus','Hungary')\n",
    "y_pos = np.arange(len(bars))\n",
    "plt.bar(y_pos, height)\n",
    "plt.xticks(y_pos, bars, rotation=45)\n",
    "plt.show()"
   ]
  },
  {
   "cell_type": "markdown",
   "metadata": {},
   "source": [
    "### 4. Reporte por e-mail:\n",
    "\n",
    "Para finalizar, programamos que se genere un Informe y se envie por e.mail:"
   ]
  },
  {
   "cell_type": "code",
   "execution_count": 11,
   "metadata": {},
   "outputs": [],
   "source": [
    "def report_to(email):\n",
    "    text = 'El informe actualizado ha sido enviado'\n",
    "    command = 'echo {} | mail -s \"Nuevo informe\" {}'.format(text, email)\n",
    "    subprocess.Popen(command, shell=True)\n",
    "    return \"Enviado!\""
   ]
  }
 ],
 "metadata": {
  "kernelspec": {
   "display_name": "Python 3",
   "language": "python",
   "name": "python3"
  },
  "language_info": {
   "codemirror_mode": {
    "name": "ipython",
    "version": 3
   },
   "file_extension": ".py",
   "mimetype": "text/x-python",
   "name": "python",
   "nbconvert_exporter": "python",
   "pygments_lexer": "ipython3",
   "version": "3.6.7"
  }
 },
 "nbformat": 4,
 "nbformat_minor": 2
}
