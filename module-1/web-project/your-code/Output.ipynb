{
 "cells": [
  {
   "cell_type": "code",
   "execution_count": 2,
   "metadata": {},
   "outputs": [],
   "source": [
    "import requests\n",
    "\n",
    "import json\n",
    "\n",
    "import pandas as pd"
   ]
  },
  {
   "cell_type": "code",
   "execution_count": null,
   "metadata": {},
   "outputs": [],
   "source": [
    "# proporcionada por la documentación de la API: https://rickandmortyapi.com/documentation\n",
    "\n",
    "url = 'https://rickandmortyapi.com/api/episode/'"
   ]
  },
  {
   "cell_type": "code",
   "execution_count": null,
   "metadata": {},
   "outputs": [],
   "source": [
    "# los 9 primeros episodios\n",
    "\n",
    "capitulos = []\n",
    "\n",
    "for i in range(1, 10): \n",
    "\n",
    "    path = url + str(i)\n",
    "\n",
    "    r = requests.get(path)\n",
    "\n",
    "    capitulos.append(r.text)"
   ]
  },
  {
   "cell_type": "code",
   "execution_count": null,
   "metadata": {},
   "outputs": [],
   "source": [
    " # print(res)\n",
    "\n",
    "    \n",
    "# por ejemplo el capítulo 1\n",
    "\n",
    "# capitulo1 = capitulos[0]\n",
    "\n",
    "# type(type(capitulo1))\n",
    "\n",
    "\n",
    "# jsn = json.loads(capitulo1)\n",
    "\n",
    "# print(jsn['name'])\n"
   ]
  },
  {
   "cell_type": "code",
   "execution_count": null,
   "metadata": {},
   "outputs": [],
   "source": [
    "# almacenamos nombres de capítulos\n",
    "\n",
    "nombre_caps = []\n",
    "\n",
    "for c in capitulos: \n",
    "\n",
    "    jsn = json.loads(c)\n",
    "\n",
    "    nombre_caps.append(jsn['name'])\n",
    "\n",
    "\n",
    "print(nombre_caps)\n"
   ]
  },
  {
   "cell_type": "code",
   "execution_count": null,
   "metadata": {},
   "outputs": [],
   "source": [
    "# creamos df(revisar codigo(:\n",
    "\n",
    "df = pd.DataFrame()\n",
    "\n",
    "df['names'] = nombre_caps\n",
    "\n",
    "display(df)\n"
   ]
  }
 ],
 "metadata": {
  "kernelspec": {
   "display_name": "Python 3",
   "language": "python",
   "name": "python3"
  },
  "language_info": {
   "codemirror_mode": {
    "name": "ipython",
    "version": 3
   },
   "file_extension": ".py",
   "mimetype": "text/x-python",
   "name": "python",
   "nbconvert_exporter": "python",
   "pygments_lexer": "ipython3",
   "version": "3.6.7"
  }
 },
 "nbformat": 4,
 "nbformat_minor": 2
}
