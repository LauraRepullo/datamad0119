{
 "cells": [
  {
   "cell_type": "code",
   "execution_count": 5,
   "metadata": {},
   "outputs": [],
   "source": [
    "import requests\n",
    "\n",
    "import json\n",
    "\n",
    "import pandas as pd\n",
    "\n",
    "from bs4 import BeautifulSoup"
   ]
  },
  {
   "cell_type": "code",
   "execution_count": 3,
   "metadata": {},
   "outputs": [],
   "source": [
    "# proporcionada por la documentación de la API: https://lyricsovh.docs.apiary.io/#reference\n",
    "\n",
    "url = 'https://api.lyrics.ovh/v1/{}/{}' #/artist/title"
   ]
  },
  {
   "cell_type": "code",
   "execution_count": null,
   "metadata": {},
   "outputs": [],
   "source": [
    "# los 9 primeros episodios\n",
    "\n",
    "capitulos = []\n",
    "\n",
    "for i in range(1, 10): \n",
    "\n",
    "    path = url + str(i)\n",
    "\n",
    "    r = requests.get(path)\n",
    "\n",
    "    capitulos.append(r.text)"
   ]
  },
  {
   "cell_type": "code",
   "execution_count": null,
   "metadata": {},
   "outputs": [],
   "source": [
    " # print(res)\n",
    "\n",
    "    \n",
    "# por ejemplo el capítulo 1\n",
    "\n",
    "# capitulo1 = capitulos[0]\n",
    "\n",
    "# type(type(capitulo1))\n",
    "\n",
    "\n",
    "# jsn = json.loads(capitulo1)\n",
    "\n",
    "# print(jsn['name'])\n"
   ]
  },
  {
   "cell_type": "code",
   "execution_count": null,
   "metadata": {},
   "outputs": [],
   "source": [
    "# almacenamos nombres de capítulos\n",
    "\n",
    "nombre_caps = []\n",
    "\n",
    "for c in capitulos: \n",
    "\n",
    "    jsn = json.loads(c)\n",
    "\n",
    "    nombre_caps.append(jsn['name'])\n",
    "\n",
    "\n",
    "print(nombre_caps)\n"
   ]
  },
  {
   "cell_type": "code",
   "execution_count": null,
   "metadata": {},
   "outputs": [],
   "source": [
    "# creamos df(revisar codigo(:\n",
    "\n",
    "df = pd.DataFrame()\n",
    "\n",
    "df['names'] = nombre_caps\n",
    "\n",
    "display(df)"
   ]
  },
  {
   "cell_type": "code",
   "execution_count": 6,
   "metadata": {},
   "outputs": [],
   "source": [
    "# web scraping\n",
    "\n",
    "url = 'https://en.wikipedia.org/wiki/List_of_European_countries_by_life_expectancy'\n",
    "url = 'https://www.rollingstone.com/music/music-lists/50-best-songs-of-2018-764204/weezer-africa-weird-al-yankovic-764318/'\n",
    "\n",
    "html = requests.get(url).content\n",
    "soup = BeautifulSoup(html, \"html.parser\")\n"
   ]
  },
  {
   "cell_type": "code",
   "execution_count": 26,
   "metadata": {},
   "outputs": [],
   "source": [
    "soup\n",
    "\n",
    "table = soup.find_all('h3',{'class':'c-list__title t-bold'})[3] #el 0 de 49 en total\n",
    "weezer = table.text"
   ]
  },
  {
   "cell_type": "code",
   "execution_count": 27,
   "metadata": {},
   "outputs": [
    {
     "data": {
      "text/plain": [
       "('\\n\\t\\t\\tThe Beths', ' “Happy Unhappy”\\t\\t')"
      ]
     },
     "execution_count": 27,
     "metadata": {},
     "output_type": "execute_result"
    }
   ],
   "source": [
    "author, title = weezer.split(',')\n",
    "author, title"
   ]
  },
  {
   "cell_type": "code",
   "execution_count": 30,
   "metadata": {},
   "outputs": [],
   "source": [
    "a = author.strip().lower()"
   ]
  },
  {
   "cell_type": "code",
   "execution_count": 25,
   "metadata": {},
   "outputs": [
    {
     "data": {
      "text/plain": [
       "'“Africa”'"
      ]
     },
     "execution_count": 25,
     "metadata": {},
     "output_type": "execute_result"
    }
   ],
   "source": [
    "title.strip().strip(\"'\").strip('\"')"
   ]
  },
  {
   "cell_type": "code",
   "execution_count": null,
   "metadata": {},
   "outputs": [],
   "source": [
    "t = 'africa'.lower()"
   ]
  },
  {
   "cell_type": "code",
   "execution_count": 33,
   "metadata": {},
   "outputs": [],
   "source": [
    "a, t= 'The Beths', 'Happy Unhappy'"
   ]
  },
  {
   "cell_type": "code",
   "execution_count": 34,
   "metadata": {},
   "outputs": [
    {
     "data": {
      "text/plain": [
       "'{\"lyrics\":\"I was higher than a biplane\\\\nThen you hit me like a hurricane\\\\nI bailed out, hit the ground\\\\nWashed up in a storm drain (oh, oh)\\\\n\\\\nStumbled up the driveway\\\\nWith a handshake and a slow wave\\\\nNow I\\'m crashed out on the couch\\\\nWondering if you feel the same\\\\n\\\\n\\'Cause you\\'re in my brain taking up space\\\\nI need for remembering pins and to take out the bins\\\\nAnd that one particular film that that actor was in\\\\nI see your face superimposed over everything\\\\nIt ain\\'t right (it ain\\'t right)\\\\n\\\\n\\'Cause I was fine on my own\\\\nTolling steady like a dial tone\\\\nCouldn\\'t you leave me I was happy unhappy\\\\nBut now I\\'m overthrown\\\\nWish my heart were really made of stone\\\\nAnd I could forget you like I really want to\\\\n\\\\nI was living with your spare change\\\\nIn the pocket of your cutaways\\\\nAnd I get so spent waiting on your lunch break\\\\n\\\\nBroke every window pane\\\\nSo I can feel the cold rain\\\\nWhen I lie in bed catching death\\\\nTrying to wash it all away\\\\n\\\\n\\'Cause you\\'re in my brain taking up space\\\\nI need for delivering lies and suppressing the sighs\\\\nAnd for navigating the escape\\\\nWhen I get lost in your eyes\\\\nIt\\'s taking up all of my time just to keep it in line\\\\nIt ain\\'t right (it ain\\'t right)\\\\n\\\\n\\'Cause I was fine on my own\\\\nTolling steady like a dial tone\\\\nCouldn\\'t you leave me I was happy unhappy\\\\nBut now I\\'m overthrown\\\\nWish my heart were really made of stone\\\\nAnd I could forget you like I really want to\\\\n\\\\n\\'Cause I was fine on my own\\\\nTolling steady like a dial tone\\\\nCouldn\\'t you leave me I was happy unhappy\\\\nBut now I\\'m overthrown\\\\nWish my heart were really made of stone\\\\nAnd I could forget you like I really want to\\\\n\\\\nAnd I could forget you\\\\nAnd I could forget you\\\\nAnd I could forget you\"}'"
      ]
     },
     "execution_count": 34,
     "metadata": {},
     "output_type": "execute_result"
    }
   ],
   "source": [
    "url = 'https://api.lyrics.ovh/v1/{}/{}'.format(a, t)\n",
    "r = requests.get(url)\n",
    "r.text"
   ]
  },
  {
   "cell_type": "code",
   "execution_count": null,
   "metadata": {},
   "outputs": [],
   "source": []
  }
 ],
 "metadata": {
  "kernelspec": {
   "display_name": "Python 3",
   "language": "python",
   "name": "python3"
  },
  "language_info": {
   "codemirror_mode": {
    "name": "ipython",
    "version": 3
   },
   "file_extension": ".py",
   "mimetype": "text/x-python",
   "name": "python",
   "nbconvert_exporter": "python",
   "pygments_lexer": "ipython3",
   "version": "3.6.7"
  }
 },
 "nbformat": 4,
 "nbformat_minor": 2
}
