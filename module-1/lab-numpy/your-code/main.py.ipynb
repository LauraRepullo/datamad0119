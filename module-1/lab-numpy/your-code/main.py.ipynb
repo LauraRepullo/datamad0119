{
 "cells": [
  {
   "cell_type": "code",
   "execution_count": 1,
   "metadata": {},
   "outputs": [],
   "source": [
    "#1. Import the NUMPY package under the name np.\n",
    "import numpy as np"
   ]
  },
  {
   "cell_type": "code",
   "execution_count": 3,
   "metadata": {},
   "outputs": [
    {
     "name": "stdout",
     "output_type": "stream",
     "text": [
      "1.16.0\n"
     ]
    }
   ],
   "source": [
    "#2. Print the NUMPY version and the configuration.\n",
    "print(np.version.version)"
   ]
  },
  {
   "cell_type": "code",
   "execution_count": 4,
   "metadata": {},
   "outputs": [
    {
     "name": "stdout",
     "output_type": "stream",
     "text": [
      "[[[0.90797584 0.17809686 0.36438064 0.76128982 0.20084273]\n",
      "  [0.42998047 0.7757803  0.33687512 0.49082041 0.22023132]\n",
      "  [0.5788054  0.63316548 0.91361575 0.12510869 0.94239104]]\n",
      "\n",
      " [[0.87123983 0.61393518 0.62367533 0.35623757 0.92371019]\n",
      "  [0.4330459  0.19627841 0.12238906 0.88338079 0.43697679]\n",
      "  [0.5366209  0.20916148 0.36837676 0.70917406 0.6143598 ]]]\n"
     ]
    }
   ],
   "source": [
    "#3. Generate a 2x3x5 3-dimensional array with random values. Assign the array to variable \"a\"\n",
    "# Challenge: there are at least three easy ways that use numpy to generate random arrays. How many ways can you find?\n",
    "import random\n",
    "a = np.random.random((2,3,5))\n",
    "#4. Print a.\n",
    "print (a)"
   ]
  },
  {
   "cell_type": "code",
   "execution_count": 5,
   "metadata": {},
   "outputs": [
    {
     "name": "stdout",
     "output_type": "stream",
     "text": [
      "[[[1. 1. 1.]\n",
      "  [1. 1. 1.]]\n",
      "\n",
      " [[1. 1. 1.]\n",
      "  [1. 1. 1.]]\n",
      "\n",
      " [[1. 1. 1.]\n",
      "  [1. 1. 1.]]\n",
      "\n",
      " [[1. 1. 1.]\n",
      "  [1. 1. 1.]]\n",
      "\n",
      " [[1. 1. 1.]\n",
      "  [1. 1. 1.]]]\n"
     ]
    }
   ],
   "source": [
    "#5. Create a 5x2x3 3-dimensional array with all values equaling 1.\n",
    "#Assign the array to variable \"b\"\n",
    "b = np.ones((5, 2, 3))\n",
    "#6. Print b.\n",
    "print (b)"
   ]
  },
  {
   "cell_type": "code",
   "execution_count": 6,
   "metadata": {},
   "outputs": [
    {
     "name": "stdout",
     "output_type": "stream",
     "text": [
      "30\n",
      "30\n"
     ]
    }
   ],
   "source": [
    "#7. Do a and b have the same size? How do you prove that in Python code?\n",
    "print (a.size)\n",
    "print (b.size)"
   ]
  },
  {
   "cell_type": "code",
   "execution_count": 7,
   "metadata": {},
   "outputs": [
    {
     "data": {
      "text/plain": [
       "True"
      ]
     },
     "execution_count": 7,
     "metadata": {},
     "output_type": "execute_result"
    }
   ],
   "source": [
    "(a.size) == (b.size)"
   ]
  },
  {
   "cell_type": "code",
   "execution_count": 21,
   "metadata": {},
   "outputs": [
    {
     "ename": "ValueError",
     "evalue": "operands could not be broadcast together with shapes (2,3,5) (5,2,3) ",
     "output_type": "error",
     "traceback": [
      "\u001b[1;31m---------------------------------------------------------------------------\u001b[0m",
      "\u001b[1;31mValueError\u001b[0m                                Traceback (most recent call last)",
      "\u001b[1;32m<ipython-input-21-d5ce9f282037>\u001b[0m in \u001b[0;36m<module>\u001b[1;34m\u001b[0m\n\u001b[1;32m----> 1\u001b[1;33m \u001b[0mnp\u001b[0m\u001b[1;33m.\u001b[0m\u001b[0madd\u001b[0m\u001b[1;33m(\u001b[0m\u001b[0ma\u001b[0m\u001b[1;33m,\u001b[0m\u001b[0mb\u001b[0m\u001b[1;33m)\u001b[0m\u001b[1;33m\u001b[0m\u001b[1;33m\u001b[0m\u001b[0m\n\u001b[0m",
      "\u001b[1;31mValueError\u001b[0m: operands could not be broadcast together with shapes (2,3,5) (5,2,3) "
     ]
    }
   ],
   "source": [
    "#8. Are you able to add a and b? Why or why not?\n",
    "np.add(a,b) #No se puede hacer, no tienen la misma dimension."
   ]
  },
  {
   "cell_type": "code",
   "execution_count": 11,
   "metadata": {},
   "outputs": [
    {
     "name": "stdout",
     "output_type": "stream",
     "text": [
      "[[[1. 1.]\n",
      "  [1. 1.]\n",
      "  [1. 1.]]\n",
      "\n",
      " [[1. 1.]\n",
      "  [1. 1.]\n",
      "  [1. 1.]]\n",
      "\n",
      " [[1. 1.]\n",
      "  [1. 1.]\n",
      "  [1. 1.]]\n",
      "\n",
      " [[1. 1.]\n",
      "  [1. 1.]\n",
      "  [1. 1.]]\n",
      "\n",
      " [[1. 1.]\n",
      "  [1. 1.]\n",
      "  [1. 1.]]]\n"
     ]
    }
   ],
   "source": [
    "#9. Transpose b so that it has the same structure of a (i.e. become a 2x3x5 array). Assign the transposed array to varialbe \"c\".\n",
    "c = np.transpose(b)\n",
    "print (c)"
   ]
  },
  {
   "cell_type": "code",
   "execution_count": 12,
   "metadata": {},
   "outputs": [
    {
     "name": "stdout",
     "output_type": "stream",
     "text": [
      "[[[1. 1. 1. 1. 1.]\n",
      "  [1. 1. 1. 1. 1.]\n",
      "  [1. 1. 1. 1. 1.]]\n",
      "\n",
      " [[1. 1. 1. 1. 1.]\n",
      "  [1. 1. 1. 1. 1.]\n",
      "  [1. 1. 1. 1. 1.]]]\n"
     ]
    }
   ],
   "source": [
    "c = c.reshape(2, 3, 5)\n",
    "print (c)"
   ]
  },
  {
   "cell_type": "code",
   "execution_count": 27,
   "metadata": {},
   "outputs": [
    {
     "name": "stdout",
     "output_type": "stream",
     "text": [
      "[[[1.90797584 1.17809686 1.36438064 1.76128982 1.20084273]\n",
      "  [1.42998047 1.7757803  1.33687512 1.49082041 1.22023132]\n",
      "  [1.5788054  1.63316548 1.91361575 1.12510869 1.94239104]]\n",
      "\n",
      " [[1.87123983 1.61393518 1.62367533 1.35623757 1.92371019]\n",
      "  [1.4330459  1.19627841 1.12238906 1.88338079 1.43697679]\n",
      "  [1.5366209  1.20916148 1.36837676 1.70917406 1.6143598 ]]]\n",
      "[[[0.90797584 0.17809686 0.36438064 0.76128982 0.20084273]\n",
      "  [0.42998047 0.7757803  0.33687512 0.49082041 0.22023132]\n",
      "  [0.5788054  0.63316548 0.91361575 0.12510869 0.94239104]]\n",
      "\n",
      " [[0.87123983 0.61393518 0.62367533 0.35623757 0.92371019]\n",
      "  [0.4330459  0.19627841 0.12238906 0.88338079 0.43697679]\n",
      "  [0.5366209  0.20916148 0.36837676 0.70917406 0.6143598 ]]]\n"
     ]
    }
   ],
   "source": [
    "#10. Try to add a and c. Now it should work. Assign the sum to varialbe \"d\". But why does it work now?\n",
    "d = np.add(a,c)\n",
    "\n",
    "#11. Print a and d. Notice the difference and relation of the two array in terms of the values? Explain.\n",
    "print (d)\n",
    "print (a)\n",
    "\n",
    "#los elementos de a son todos -1 con respecto a los elementos de d"
   ]
  },
  {
   "cell_type": "code",
   "execution_count": 53,
   "metadata": {},
   "outputs": [
    {
     "name": "stdout",
     "output_type": "stream",
     "text": [
      "[[[1. 1. 1. 1. 1.]\n",
      "  [1. 1. 1. 1. 1.]\n",
      "  [1. 1. 1. 1. 1.]]\n",
      "\n",
      " [[1. 1. 1. 1. 1.]\n",
      "  [1. 1. 1. 1. 1.]\n",
      "  [1. 1. 1. 1. 1.]]]\n"
     ]
    }
   ],
   "source": [
    "#12. Multiply a and c. Assign the result to e.\n",
    "c = c.reshape(2, 3, 5)\n",
    "print (c)"
   ]
  },
  {
   "cell_type": "code",
   "execution_count": 15,
   "metadata": {},
   "outputs": [
    {
     "name": "stdout",
     "output_type": "stream",
     "text": [
      "[[[0.90797584 0.17809686 0.36438064 0.76128982 0.20084273]\n",
      "  [0.42998047 0.7757803  0.33687512 0.49082041 0.22023132]\n",
      "  [0.5788054  0.63316548 0.91361575 0.12510869 0.94239104]]\n",
      "\n",
      " [[0.87123983 0.61393518 0.62367533 0.35623757 0.92371019]\n",
      "  [0.4330459  0.19627841 0.12238906 0.88338079 0.43697679]\n",
      "  [0.5366209  0.20916148 0.36837676 0.70917406 0.6143598 ]]]\n"
     ]
    }
   ],
   "source": [
    "#12. Multiply a and c. Assign the result to e.\n",
    "e = np.multiply(a,c)\n",
    "print(e)"
   ]
  },
  {
   "cell_type": "code",
   "execution_count": 57,
   "metadata": {},
   "outputs": [
    {
     "data": {
      "text/plain": [
       "array([[[ True,  True,  True,  True,  True],\n",
       "        [ True,  True,  True,  True,  True],\n",
       "        [ True,  True,  True,  True,  True]],\n",
       "\n",
       "       [[ True,  True,  True,  True,  True],\n",
       "        [ True,  True,  True,  True,  True],\n",
       "        [ True,  True,  True,  True,  True]]])"
      ]
     },
     "execution_count": 57,
     "metadata": {},
     "output_type": "execute_result"
    }
   ],
   "source": [
    "#13. Does e equal to a? Why or why not?\n",
    "a == e #Si, se estaba multiplicando el valor de a por puros 1s, por lo que se mantendra el valor de a en e y serán iguales."
   ]
  },
  {
   "cell_type": "code",
   "execution_count": 28,
   "metadata": {},
   "outputs": [
    {
     "name": "stdout",
     "output_type": "stream",
     "text": [
      "1.525264064461113\n",
      "1.1223890609396792\n",
      "1.9423910403050564\n"
     ]
    }
   ],
   "source": [
    "#14. Identify the max, min, and mean values in d. Assign those values to variables \"d_max\", \"d_min\", and \"d_mean\"\n",
    "d_max = np.mean(d)\n",
    "d_min = np.min(d)\n",
    "d_mean = np.max(d)\n",
    "\n",
    "print (d_max)\n",
    "print (d_min)\n",
    "print (d_mean)"
   ]
  },
  {
   "cell_type": "code",
   "execution_count": 19,
   "metadata": {},
   "outputs": [
    {
     "name": "stdout",
     "output_type": "stream",
     "text": [
      "[[[0.90797584 0.17809686 0.36438064 0.76128982 0.20084273]\n",
      "  [0.42998047 0.7757803  0.33687512 0.49082041 0.22023132]\n",
      "  [0.5788054  0.63316548 0.91361575 0.12510869 0.94239104]]\n",
      "\n",
      " [[0.87123983 0.61393518 0.62367533 0.35623757 0.92371019]\n",
      "  [0.4330459  0.19627841 0.12238906 0.88338079 0.43697679]\n",
      "  [0.5366209  0.20916148 0.36837676 0.70917406 0.6143598 ]]]\n"
     ]
    }
   ],
   "source": [
    "#15. Now we want to label the values in d. First create an empty array \"f\" with the same shape (i.e. 2x3x5) as d using `np.empty`.\n",
    "f = np.empty((2,3,5))"
   ]
  },
  {
   "cell_type": "code",
   "execution_count": 26,
   "metadata": {},
   "outputs": [
    {
     "name": "stdout",
     "output_type": "stream",
     "text": [
      "[[[25. 25. 25. 25. 25.]\n",
      "  [25. 25. 25. 25. 25.]\n",
      "  [25. 25. 25. 25. 50.]]\n",
      "\n",
      " [[25. 25. 25. 25. 25.]\n",
      "  [25. 25.  0. 25. 25.]\n",
      "  [25. 25. 25. 25. 25.]]]\n"
     ]
    }
   ],
   "source": [
    "#16. Populate the values in f. For each value in d, if it's larger than d_min but smaller than d_mean, assign 25 to the corresponding value in f.\n",
    "#If a value in d is larger than d_mean but smaller than d_max, assign 75 to the corresponding value in f.\n",
    "#If a value equals to d_mean, assign 50 to the corresponding value in f.\n",
    "#Assign 0 to the corresponding value(s) in f for d_min in d.\n",
    "#Assign 100 to the corresponding value(s) in f for d_max in d.\n",
    "#In the end, f should have only the following values: 0, 25, 50, 75, and 100.\n",
    "#Note: you don't have to use Numpy in this question.\n",
    "    \n",
    "    \n",
    "f[(d>d_min)&(d<d_mean)]=25\n",
    "f[(d>d_mean)&(d<d_max)]=75\n",
    "f[d==d_mean]=50\n",
    "f[d==d_min]=0\n",
    "f[d==d_max]=100\n",
    "    \n",
    "print(f)"
   ]
  },
  {
   "cell_type": "code",
   "execution_count": 31,
   "metadata": {},
   "outputs": [
    {
     "name": "stdout",
     "output_type": "stream",
     "text": [
      "[[[1.90797584 1.17809686 1.36438064 1.76128982 1.20084273]\n",
      "  [1.42998047 1.7757803  1.33687512 1.49082041 1.22023132]\n",
      "  [1.5788054  1.63316548 1.91361575 1.12510869 1.94239104]]\n",
      "\n",
      " [[1.87123983 1.61393518 1.62367533 1.35623757 1.92371019]\n",
      "  [1.4330459  1.19627841 1.12238906 1.88338079 1.43697679]\n",
      "  [1.5366209  1.20916148 1.36837676 1.70917406 1.6143598 ]]]\n",
      "[[[25. 25. 25. 25. 25.]\n",
      "  [25. 25. 25. 25. 25.]\n",
      "  [25. 25. 25. 25. 50.]]\n",
      "\n",
      " [[25. 25. 25. 25. 25.]\n",
      "  [25. 25.  0. 25. 25.]\n",
      "  [25. 25. 25. 25. 25.]]]\n"
     ]
    }
   ],
   "source": [
    "#17. Print d and f. Do you have your expected f?\n",
    "print(d)\n",
    "print(f)\n",
    "#yes!\n",
    "#For instance, if your d is:\n",
    "#array([[[1.85836099, 1.67064465, 1.62576044, 1.40243961, 1.88454931],\n",
    "        #[1.75354326, 1.69403643, 1.36729252, 1.61415071, 1.12104981],\n",
    "        #[1.72201435, 1.1862918 , 1.87078449, 1.7726778 , 1.88180042]],\n",
    "\n",
    "       #[[1.44747908, 1.31673383, 1.02000951, 1.52218947, 1.97066381],\n",
    "        #[1.79129243, 1.74983003, 1.96028037, 1.85166831, 1.65450881],\n",
    "        #[1.18068344, 1.9587381 , 1.00656599, 1.93402165, 1.73514584]]])\n",
    "\n",
    "#Your f should be:\n",
    "#array([[[ 75.,  75.,  75.,  25.,  75.],\n",
    "        #[ 75.,  75.,  25.,  25.,  25.],\n",
    "        #[ 75.,  25.,  75.,  75.,  75.]],\n",
    "\n",
    "       #[[ 25.,  25.,  25.,  25., 100.],\n",
    "        #[ 75.,  75.,  75.,  75.,  75.],\n",
    "        #[ 25.,  75.,   0.,  75.,  75.]]])"
   ]
  },
  {
   "cell_type": "code",
   "execution_count": 37,
   "metadata": {},
   "outputs": [
    {
     "ename": "TypeError",
     "evalue": "'list' object is not callable",
     "output_type": "error",
     "traceback": [
      "\u001b[0;31m---------------------------------------------------------------------------\u001b[0m",
      "\u001b[0;31mTypeError\u001b[0m                                 Traceback (most recent call last)",
      "\u001b[0;32m<ipython-input-37-2b5b5c4e331a>\u001b[0m in \u001b[0;36m<module>\u001b[0;34m()\u001b[0m\n\u001b[1;32m      8\u001b[0m        [[ 'B',  'B',  'B',  'B',  'E'],\n\u001b[1;32m      9\u001b[0m         \u001b[0;34m[\u001b[0m \u001b[0;34m'D'\u001b[0m\u001b[0;34m,\u001b[0m  \u001b[0;34m'D'\u001b[0m\u001b[0;34m,\u001b[0m  \u001b[0;34m'D'\u001b[0m\u001b[0;34m,\u001b[0m  \u001b[0;34m'D'\u001b[0m\u001b[0;34m,\u001b[0m  \u001b[0;34m'D'\u001b[0m\u001b[0;34m]\u001b[0m\u001b[0;34m,\u001b[0m\u001b[0;34m\u001b[0m\u001b[0m\n\u001b[0;32m---> 10\u001b[0;31m         [ 'B',  'D',   'A',  'D', 'D']]])\n\u001b[0m\u001b[1;32m     11\u001b[0m \u001b[0;34m\u001b[0m\u001b[0m\n\u001b[1;32m     12\u001b[0m \u001b[0marray\u001b[0m\u001b[0;34m.\u001b[0m\u001b[0mshape\u001b[0m\u001b[0;34m\u001b[0m\u001b[0m\n",
      "\u001b[0;31mTypeError\u001b[0m: 'list' object is not callable"
     ]
    }
   ],
   "source": [
    "#18. Bonus question: instead of using numbers (i.e. 0, 25, 50, 75, and 100), how to use string values (\"A\", \"B\", \"C\", \"D\", and \"E\") to label the array elements? You are expecting the result to be:\n",
    "#Again, you don't need Numpy in this question.\n",
    "\n",
    "array([[[ 'D',  'D',  'D',  'B',  'D'],\n",
    "        [ 'D',  'D',  'B',  'B',  'B'],\n",
    "        [ 'D',  'B',  'D',  'D',  'D']],\n",
    "\n",
    "       [[ 'B',  'B',  'B',  'B',  'E'],\n",
    "        [ 'D',  'D',  'D',  'D',  'D'],\n",
    "        [ 'B',  'D',   'A',  'D', 'D']]])\n",
    "\n",
    "array.shape"
   ]
  },
  {
   "cell_type": "code",
   "execution_count": null,
   "metadata": {},
   "outputs": [],
   "source": []
  }
 ],
 "metadata": {
  "kernelspec": {
   "display_name": "Python 3",
   "language": "python",
   "name": "python3"
  },
  "language_info": {
   "codemirror_mode": {
    "name": "ipython",
    "version": 2
   },
   "file_extension": ".py",
   "mimetype": "text/x-python",
   "name": "python",
   "nbconvert_exporter": "python",
   "pygments_lexer": "ipython2",
   "version": "2.7.15rc1"
  }
 },
 "nbformat": 4,
 "nbformat_minor": 2
}
