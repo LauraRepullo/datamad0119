{
 "cells": [
  {
   "cell_type": "code",
   "execution_count": 2,
   "metadata": {},
   "outputs": [],
   "source": [
    "#Challenge 2: Count Commits\n",
    "#Count how many commits were made in the past week. Obtain all the commits made in the past week via API, which is a JSON array that contains multiple commit objects. Count how many commit objects are contained in the array.\n",
    "import json\n",
    "import requests"
   ]
  },
  {
   "cell_type": "code",
   "execution_count": 28,
   "metadata": {},
   "outputs": [
    {
     "data": {
      "text/plain": [
       "[{'sha': 'a3bb8cebd5bd269c339092d447e2d95cd5773c47',\n",
       "  'node_id': 'MDY6Q29tbWl0MTY3MDA3MTYzOmEzYmI4Y2ViZDViZDI2OWMzMzkwOTJkNDQ3ZTJkOTVjZDU3NzNjNDc=',\n",
       "  'commit': {'author': {'name': 'Zhou Zhou',\n",
       "    'email': 'zhou.eye8@gmail.com',\n",
       "    'date': '2019-01-29T02:20:49Z'},\n",
       "   'committer': {'name': 'GitHub',\n",
       "    'email': 'noreply@github.com',\n",
       "    'date': '2019-01-29T02:20:49Z'},\n",
       "   'message': 'Update LICENSE',\n",
       "   'tree': {'sha': 'a7f6cad36388887518110899a71854779feeef3d',\n",
       "    'url': 'https://api.github.com/repos/ironhack-datalabs/datamad0119/git/trees/a7f6cad36388887518110899a71854779feeef3d'},\n",
       "   'url': 'https://api.github.com/repos/ironhack-datalabs/datamad0119/git/commits/a3bb8cebd5bd269c339092d447e2d95cd5773c47',\n",
       "   'comment_count': 0,\n",
       "   'verification': {'verified': True,\n",
       "    'reason': 'valid',\n",
       "    'signature': '-----BEGIN PGP SIGNATURE-----\\n\\nwsBcBAABCAAQBQJcT7iBCRBK7hj4Ov3rIwAAdHIIAIvktbgSfsOBzAUARDBpUR0d\\nktQKS46JXLFYSe9q6LMrvZEl71ByYCUifFI6OO/VViApHeUzkVKCYpuOScmGAkaH\\nvn/hm9tOngh6zG8RcGlAIEPw22/3bSQsXji8pMJZEXZV2257nPv03AougQIiHBg9\\n97a3UunhFTWgHEO/ndN2iKsIfD3jYQC/Rg7/LgOqNRYRpzMr9+c+4uZxHN6ZBofL\\nPvbe49XpVKMpkA6gak2VSKkHq33Q3QRVMnAFsERDBIe/EGDr2xdymADMQEWuqY9b\\nEngJMG8u7s0SGOISXmIHDp5yJfIJ87wyK4NWor4yWVcqJSktfme2WUEKMF03tGA=\\n=TNp+\\n-----END PGP SIGNATURE-----\\n',\n",
       "    'payload': 'tree a7f6cad36388887518110899a71854779feeef3d\\nparent ce9928394ad3b0eaa6b17beaa86dad5f69dc9899\\nauthor Zhou Zhou <zhou.eye8@gmail.com> 1548728449 -0500\\ncommitter GitHub <noreply@github.com> 1548728449 -0500\\n\\nUpdate LICENSE'}},\n",
       "  'url': 'https://api.github.com/repos/ironhack-datalabs/datamad0119/commits/a3bb8cebd5bd269c339092d447e2d95cd5773c47',\n",
       "  'html_url': 'https://github.com/ironhack-datalabs/datamad0119/commit/a3bb8cebd5bd269c339092d447e2d95cd5773c47',\n",
       "  'comments_url': 'https://api.github.com/repos/ironhack-datalabs/datamad0119/commits/a3bb8cebd5bd269c339092d447e2d95cd5773c47/comments',\n",
       "  'author': {'login': 'eye8',\n",
       "   'id': 1659798,\n",
       "   'node_id': 'MDQ6VXNlcjE2NTk3OTg=',\n",
       "   'avatar_url': 'https://avatars3.githubusercontent.com/u/1659798?v=4',\n",
       "   'gravatar_id': '',\n",
       "   'url': 'https://api.github.com/users/eye8',\n",
       "   'html_url': 'https://github.com/eye8',\n",
       "   'followers_url': 'https://api.github.com/users/eye8/followers',\n",
       "   'following_url': 'https://api.github.com/users/eye8/following{/other_user}',\n",
       "   'gists_url': 'https://api.github.com/users/eye8/gists{/gist_id}',\n",
       "   'starred_url': 'https://api.github.com/users/eye8/starred{/owner}{/repo}',\n",
       "   'subscriptions_url': 'https://api.github.com/users/eye8/subscriptions',\n",
       "   'organizations_url': 'https://api.github.com/users/eye8/orgs',\n",
       "   'repos_url': 'https://api.github.com/users/eye8/repos',\n",
       "   'events_url': 'https://api.github.com/users/eye8/events{/privacy}',\n",
       "   'received_events_url': 'https://api.github.com/users/eye8/received_events',\n",
       "   'type': 'User',\n",
       "   'site_admin': False},\n",
       "  'committer': {'login': 'web-flow',\n",
       "   'id': 19864447,\n",
       "   'node_id': 'MDQ6VXNlcjE5ODY0NDQ3',\n",
       "   'avatar_url': 'https://avatars3.githubusercontent.com/u/19864447?v=4',\n",
       "   'gravatar_id': '',\n",
       "   'url': 'https://api.github.com/users/web-flow',\n",
       "   'html_url': 'https://github.com/web-flow',\n",
       "   'followers_url': 'https://api.github.com/users/web-flow/followers',\n",
       "   'following_url': 'https://api.github.com/users/web-flow/following{/other_user}',\n",
       "   'gists_url': 'https://api.github.com/users/web-flow/gists{/gist_id}',\n",
       "   'starred_url': 'https://api.github.com/users/web-flow/starred{/owner}{/repo}',\n",
       "   'subscriptions_url': 'https://api.github.com/users/web-flow/subscriptions',\n",
       "   'organizations_url': 'https://api.github.com/users/web-flow/orgs',\n",
       "   'repos_url': 'https://api.github.com/users/web-flow/repos',\n",
       "   'events_url': 'https://api.github.com/users/web-flow/events{/privacy}',\n",
       "   'received_events_url': 'https://api.github.com/users/web-flow/received_events',\n",
       "   'type': 'User',\n",
       "   'site_admin': False},\n",
       "  'parents': [{'sha': 'ce9928394ad3b0eaa6b17beaa86dad5f69dc9899',\n",
       "    'url': 'https://api.github.com/repos/ironhack-datalabs/datamad0119/commits/ce9928394ad3b0eaa6b17beaa86dad5f69dc9899',\n",
       "    'html_url': 'https://github.com/ironhack-datalabs/datamad0119/commit/ce9928394ad3b0eaa6b17beaa86dad5f69dc9899'}]}]"
      ]
     },
     "execution_count": 28,
     "metadata": {},
     "output_type": "execute_result"
    }
   ],
   "source": [
    "response2 = requests.get('https://api.github.com/repos/ironhack-datalabs/datamad0119/commits?since=2019-01-29T00:00:00Z')\n",
    "results2 = response2.json()\n",
    "results2"
   ]
  }
 ],
 "metadata": {
  "kernelspec": {
   "display_name": "Python 3",
   "language": "python",
   "name": "python3"
  },
  "language_info": {
   "codemirror_mode": {
    "name": "ipython",
    "version": 3
   },
   "file_extension": ".py",
   "mimetype": "text/x-python",
   "name": "python",
   "nbconvert_exporter": "python",
   "pygments_lexer": "ipython3",
   "version": "3.6.7"
  }
 },
 "nbformat": 4,
 "nbformat_minor": 2
}
